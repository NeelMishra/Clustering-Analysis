{
  "nbformat": 4,
  "nbformat_minor": 0,
  "metadata": {
    "colab": {
      "name": "Question_2.ipynb",
      "provenance": [],
      "collapsed_sections": []
    },
    "kernelspec": {
      "display_name": "Python 3",
      "name": "python3"
    },
    "language_info": {
      "name": "python"
    }
  },
  "cells": [
    {
      "cell_type": "markdown",
      "metadata": {
        "id": "K3oK3T7Bl4q0"
      },
      "source": [
        "## K - Means Implementation"
      ]
    },
    {
      "cell_type": "markdown",
      "metadata": {
        "id": "wb4hfAXj6rXa"
      },
      "source": [
        "The below code cell has the core implementation of K-Means"
      ]
    },
    {
      "cell_type": "code",
      "metadata": {
        "id": "goi_be4sfw8K"
      },
      "source": [
        "\n",
        "import numpy as np\n",
        "\n",
        "class k_means():\n",
        "\n",
        "  def __init__(self, k = 3, tol=1e-9):\n",
        "    '''\n",
        "    Input :\n",
        "    1) number of clusters k\n",
        "    '''\n",
        "    self.k = k\n",
        "    self.tol = tol\n",
        "    self.old_centers = np.array([])\n",
        "\n",
        "  def euclidean_distance(self, p1, p2):\n",
        "    '''\n",
        "    Calculates the euclidean distance between two points\n",
        "    Input:\n",
        "    1) p1 has the dimension 1xn\n",
        "    2) p2 has the dimension 1xn\n",
        "    Output:\n",
        "    1) distance is the euclidean distance between point p1, and p2\n",
        "    '''\n",
        "    distance = np.linalg.norm(p2-p1)\n",
        "    return distance\n",
        "\n",
        "  def label_fetcher(self, distance_metric_T):\n",
        "    '''\n",
        "    Calculates the label of each data points with respect to cluster number.\n",
        "    Input:\n",
        "    1) The distance metric is a matrix which contains distances of all points with respect to each cluster. The transpose will have each row as a datapoint's distance to each cluster center\n",
        "    Output:\n",
        "    1) label_array is the array containing labels of each data points\n",
        "    '''\n",
        "    labels = []\n",
        "    for row in distance_metric_T:\n",
        "      self.row = row\n",
        "      min_index = np.argmin(row)\n",
        "      labels.append(min_index)\n",
        "    \n",
        "    return np.array(labels)\n",
        "\n",
        "\n",
        "\n",
        "  def points_to_cluster_distance(self, data_points, cluster_center):\n",
        "    '''\n",
        "    Calculates the distance array of data_points with respect to the cluster_center\n",
        "    Input :\n",
        "    1) data_points\n",
        "    2) cluster_center has the dimension 1xn\n",
        "    Output:\n",
        "    1) Returns the distance array\n",
        "    '''\n",
        "    distance_array = []\n",
        "    # Calculating the distance of each point with the cluster center below, and appending it to the distance array\n",
        "    for point in data_points:\n",
        "      dist = self.euclidean_distance(point, cluster_center)\n",
        "      distance_array.append(dist)\n",
        "    distance_array = np.array(distance_array)\n",
        "    return distance_array\n",
        "\n",
        "\n",
        "  def breaking_condition(self, cluster_center, old_center):\n",
        "    self.cluster_center = cluster_center\n",
        "    self.old_center = old_center\n",
        "    cluster_center = np.concatenate(cluster_center)\n",
        "    old_center = np.concatenate(old_center)\n",
        "    dist = self.euclidean_distance(cluster_center, old_center)\n",
        "    return dist\n",
        "\n",
        "  def fit(self, data):\n",
        "    '''\n",
        "    This function will find the cluster centers, and the assign cluster labels to each samples.\n",
        "    Input :\n",
        "    1) data:\n",
        "       data has the dimension m x n, where m is the number of samples, and n is the dimension. The format of data must be a numpy array.\n",
        "\n",
        "    Output:\n",
        "    1) cluster_centers:\n",
        "        It is a list which contains each cluster centers\n",
        "    2) labels:\n",
        "        The labels assigned to each data point, and has the dimension m x 1\n",
        "    '''\n",
        "    k = self.k\n",
        "    iteration = 0\n",
        "    # Randomly intializing the clusters\n",
        "    cluster_centers = []\n",
        "    for i in range(k):\n",
        "      cluster_centers.append(np.squeeze(np.random.randn(1, data.shape[1])))\n",
        "    \n",
        "    self.debug = cluster_centers\n",
        "\n",
        "    while(1):\n",
        "      iteration += 1\n",
        "      clusters = {}\n",
        "      labels = []\n",
        "      for i in range(k):\n",
        "        clusters[i] = []\n",
        "\n",
        "      \n",
        "\n",
        "      #Assigning points to the cluster\n",
        "      for sample in data:\n",
        "        distance_array = []\n",
        "        for cluster in cluster_centers:\n",
        "          distance = self.euclidean_distance(sample, cluster)\n",
        "          distance_array.append(distance)\n",
        "        min_index = np.argmin(distance_array)\n",
        "        \n",
        "        clusters[min_index].append(sample)\n",
        "        labels.append(min_index)\n",
        "      \n",
        "      #Calculating mean\n",
        "      old_centers = cluster_centers\n",
        "      cluster_centers = []\n",
        "\n",
        "      for i in range(k):\n",
        "      \n",
        "        if(len(clusters[i]) ==  0): # This handles the situation where clusters have 0 members, or empty cluster situation\n",
        "          cluster_centers.append(np.squeeze(np.random.randn(1, data.shape[1])))\n",
        "          continue\n",
        "        mean = np.squeeze(np.mean(clusters[i], axis=0))\n",
        "        cluster_centers.append(mean)\n",
        "\n",
        "      # DEBUG\n",
        "      self.cluster_centers = cluster_centers\n",
        "      self.old_centers = old_centers\n",
        "      if(self.breaking_condition(cluster_centers, old_centers) <= self.tol):\n",
        "        break\n",
        "\n",
        "    return clusters, cluster_centers, labels, iteration\n",
        "\n",
        "\n",
        "      \n",
        "\n",
        "    \n",
        "    \n",
        "    \n",
        "\n",
        "\n",
        "\n",
        "  \n"
      ],
      "execution_count": null,
      "outputs": []
    },
    {
      "cell_type": "code",
      "metadata": {
        "id": "uyNwUChwWvmM"
      },
      "source": [
        "import pandas as pd\n",
        "import csv\n",
        "df = pd.read_csv('football_data.csv')\n",
        "df_corrected = df.fillna(df.mean())"
      ],
      "execution_count": null,
      "outputs": []
    },
    {
      "cell_type": "code",
      "metadata": {
        "id": "_Rnl3AvTWvoo",
        "colab": {
          "base_uri": "https://localhost:8080/",
          "height": 210
        },
        "outputId": "3c6877e9-110a-4f87-a2d4-da880b51d5f5"
      },
      "source": [
        "df_corrected.drop(columns=['ID', 'Name', 'Photo', 'Nationality', 'Flag', 'Club', 'Club Logo', 'Value', 'Wage', 'Preferred Foot', 'Work Rate', 'Body Type', 'Real Face', 'Position', 'Joined', 'Loaned From', 'Contract Valid Until', 'Release Clause',  ,])"
      ],
      "execution_count": null,
      "outputs": [
        {
          "output_type": "error",
          "ename": "SyntaxError",
          "evalue": "ignored",
          "traceback": [
            "\u001b[0;36m  File \u001b[0;32m\"<ipython-input-115-2121edce3b32>\"\u001b[0;36m, line \u001b[0;32m1\u001b[0m\n\u001b[0;31m    df_corrected.drop(columns=['ID', 'Name', 'Photo', 'Nationality', 'Flag', 'Club', 'Club Logo', 'Value', 'Wage', 'Preferred Foot', 'Work Rate', 'Body Type', 'Real Face', 'Position', 'Joined', 'Loaned From', 'Contract Valid Until', 'Release Clause',  ,])\u001b[0m\n\u001b[0m                                                                                                                                                                                                                                                            ^\u001b[0m\n\u001b[0;31mSyntaxError\u001b[0m\u001b[0;31m:\u001b[0m invalid syntax\n"
          ]
        }
      ]
    },
    {
      "cell_type": "code",
      "metadata": {
        "id": "rQn1_INBWvrG"
      },
      "source": [
        ""
      ],
      "execution_count": null,
      "outputs": []
    },
    {
      "cell_type": "code",
      "metadata": {
        "id": "lvY9khVxWvuR"
      },
      "source": [
        ""
      ],
      "execution_count": null,
      "outputs": []
    },
    {
      "cell_type": "markdown",
      "metadata": {
        "id": "EOzDk3JnWxk1"
      },
      "source": [
        "# Elbow method, and Silhoutte Score.\n",
        "\n"
      ]
    },
    {
      "cell_type": "code",
      "metadata": {
        "id": "7DO0PXVpWvxr"
      },
      "source": [
        "def label_generator(data_points, clusters):\n",
        "  k = len(clusters)\n",
        "  labels = []\n",
        "  for point in data_points:\n",
        "    for j, cluster_points in clusters.items():\n",
        "      #return cluster_points\n",
        "      #print(cluster_points)\n",
        "      cluster_points = np.array(cluster_points)\n",
        "      if point in cluster_points:\n",
        "        labels.append(j)\n",
        "  return labels"
      ],
      "execution_count": null,
      "outputs": []
    },
    {
      "cell_type": "code",
      "metadata": {
        "id": "KBaRCkUq8JOS"
      },
      "source": [
        "### TESTING ###\n",
        "import pandas as pd\n",
        "data = pd.read_csv(\"driver-data.csv\", index_col=\"id\")\n",
        "data.head()\n",
        "data_numpy = data.to_numpy()"
      ],
      "execution_count": null,
      "outputs": []
    },
    {
      "cell_type": "code",
      "metadata": {
        "id": "9WZvuOsl8K-8"
      },
      "source": [
        "kmeans = k_means(3)"
      ],
      "execution_count": null,
      "outputs": []
    },
    {
      "cell_type": "code",
      "metadata": {
        "id": "sM4JDpDn8NF9"
      },
      "source": [
        "clusters, cluster_centers, labels,iteration = kmeans.fit(data_numpy)"
      ],
      "execution_count": null,
      "outputs": []
    },
    {
      "cell_type": "code",
      "metadata": {
        "colab": {
          "base_uri": "https://localhost:8080/"
        },
        "id": "hrUiytEEtoTJ",
        "outputId": "7fa66193-0621-4ec2-977f-0b9e7dbb7c4d"
      },
      "source": [
        "labels[:5]"
      ],
      "execution_count": null,
      "outputs": [
        {
          "output_type": "execute_result",
          "data": {
            "text/plain": [
              "[2, 2, 2, 2, 2]"
            ]
          },
          "metadata": {},
          "execution_count": 142
        }
      ]
    },
    {
      "cell_type": "code",
      "metadata": {
        "colab": {
          "base_uri": "https://localhost:8080/"
        },
        "id": "M_V0kPF4t1fL",
        "outputId": "2d3e4494-b4b4-4035-cd25-3ca69eb482d0"
      },
      "source": [
        "data_numpy[:5]"
      ],
      "execution_count": null,
      "outputs": [
        {
          "output_type": "execute_result",
          "data": {
            "text/plain": [
              "array([[71.24, 28.  ],\n",
              "       [52.53, 25.  ],\n",
              "       [64.54, 27.  ],\n",
              "       [55.69, 22.  ],\n",
              "       [54.58, 25.  ]])"
            ]
          },
          "metadata": {},
          "execution_count": 145
        }
      ]
    },
    {
      "cell_type": "code",
      "metadata": {
        "colab": {
          "base_uri": "https://localhost:8080/"
        },
        "id": "Lo2WXsZau9ux",
        "outputId": "efb37ecb-7a7e-4bb1-e021-3835c3e5ba29"
      },
      "source": [
        "clusters[2]"
      ],
      "execution_count": null,
      "outputs": [
        {
          "output_type": "execute_result",
          "data": {
            "text/plain": [
              "[array([71.24, 28.  ]),\n",
              " array([52.53, 25.  ]),\n",
              " array([64.54, 27.  ]),\n",
              " array([55.69, 22.  ]),\n",
              " array([54.58, 25.  ]),\n",
              " array([58.64, 20.  ]),\n",
              " array([31.25, 34.  ]),\n",
              " array([44.31, 19.  ]),\n",
              " array([49.35, 40.  ]),\n",
              " array([58.07, 45.  ]),\n",
              " array([44.22, 22.  ]),\n",
              " array([55.73, 19.  ]),\n",
              " array([46.63, 43.  ]),\n",
              " array([52.97, 32.  ]),\n",
              " array([46.25, 35.  ]),\n",
              " array([51.55, 27.  ]),\n",
              " array([57.05, 26.  ]),\n",
              " array([58.45, 30.  ]),\n",
              " array([43.42, 23.  ]),\n",
              " array([55.68, 37.  ]),\n",
              " array([43.84, 22.  ]),\n",
              " array([59.26, 32.  ]),\n",
              " array([37.14, 41.  ]),\n",
              " array([64.3, 29. ]),\n",
              " array([45.97, 23.  ]),\n",
              " array([56.04, 39.  ]),\n",
              " array([33.64, 45.  ]),\n",
              " array([41.67, 33.  ]),\n",
              " array([50.68, 39.  ]),\n",
              " array([54.22, 35.  ]),\n",
              " array([56.2, 29. ]),\n",
              " array([46.16, 41.  ]),\n",
              " array([50.22, 24.  ]),\n",
              " array([49.66, 33.  ]),\n",
              " array([38.61, 37.  ]),\n",
              " array([55.28, 36.  ]),\n",
              " array([57.87, 41.  ]),\n",
              " array([37.41, 21.  ]),\n",
              " array([53.83, 32.  ]),\n",
              " array([62.98, 22.  ]),\n",
              " array([58.03, 24.  ]),\n",
              " array([59.87, 36.  ]),\n",
              " array([81.34, 31.  ]),\n",
              " array([48.56, 26.  ]),\n",
              " array([17.66, 23.  ]),\n",
              " array([46.01, 21.  ]),\n",
              " array([45.34, 26.  ]),\n",
              " array([39.64, 31.  ]),\n",
              " array([51.22, 36.  ]),\n",
              " array([36.21, 31.  ]),\n",
              " array([47.32, 55.  ]),\n",
              " array([54.87, 27.  ]),\n",
              " array([57.3, 42. ]),\n",
              " array([59.94, 32.  ]),\n",
              " array([61.72, 25.  ]),\n",
              " array([53.19, 23.  ]),\n",
              " array([35.13, 38.  ]),\n",
              " array([48.47, 20.  ]),\n",
              " array([51.17, 43.  ]),\n",
              " array([42.14, 39.  ]),\n",
              " array([54.31, 35.  ]),\n",
              " array([48.93, 32.  ]),\n",
              " array([53.51, 44.  ]),\n",
              " array([51.72, 24.  ]),\n",
              " array([49.2, 41. ]),\n",
              " array([60.2, 39. ]),\n",
              " array([54.06, 20.  ]),\n",
              " array([72.91, 30.  ]),\n",
              " array([61.92, 40.  ]),\n",
              " array([44.2, 24. ]),\n",
              " array([60.75, 39.  ]),\n",
              " array([68.36, 37.  ]),\n",
              " array([56.39, 20.  ]),\n",
              " array([66.19, 27.  ]),\n",
              " array([47.55, 22.  ]),\n",
              " array([17.81, 26.  ]),\n",
              " array([31.25, 29.  ]),\n",
              " array([61., 41.]),\n",
              " array([40.98, 33.  ]),\n",
              " array([53.69, 24.  ]),\n",
              " array([64.57, 29.  ]),\n",
              " array([53.79, 23.  ]),\n",
              " array([64.28, 34.  ]),\n",
              " array([38.41, 24.  ]),\n",
              " array([58.89, 42.  ]),\n",
              " array([44.17, 33.  ]),\n",
              " array([50.41, 43.  ]),\n",
              " array([63.63, 28.  ]),\n",
              " array([45.78, 24.  ]),\n",
              " array([55.61, 20.  ]),\n",
              " array([49.69, 38.  ]),\n",
              " array([54.6, 30. ]),\n",
              " array([40.94, 59.  ]),\n",
              " array([43.84, 36.  ]),\n",
              " array([56.36, 19.  ]),\n",
              " array([69.53, 23.  ]),\n",
              " array([51.48, 19.  ]),\n",
              " array([52.93, 41.  ]),\n",
              " array([52.14, 23.  ]),\n",
              " array([62.86, 21.  ]),\n",
              " array([37.53, 33.  ]),\n",
              " array([63.47, 25.  ]),\n",
              " array([62.11, 33.  ]),\n",
              " array([43.52, 25.  ]),\n",
              " array([47.97, 27.  ]),\n",
              " array([42.27, 37.  ]),\n",
              " array([56.05, 30.  ]),\n",
              " array([62.08, 37.  ]),\n",
              " array([35.25, 53.  ]),\n",
              " array([39.81, 25.  ]),\n",
              " array([60.27, 33.  ]),\n",
              " array([53.41, 22.  ]),\n",
              " array([56.28, 27.  ]),\n",
              " array([53.31, 25.  ]),\n",
              " array([55.24, 30.  ]),\n",
              " array([44.97, 29.  ]),\n",
              " array([40.3, 43. ]),\n",
              " array([47.18, 42.  ]),\n",
              " array([46.4, 34. ]),\n",
              " array([54.33, 38.  ]),\n",
              " array([54.59, 64.  ]),\n",
              " array([61.67, 50.  ]),\n",
              " array([52.39, 19.  ]),\n",
              " array([40.84, 25.  ]),\n",
              " array([27.42, 27.  ]),\n",
              " array([44.79, 31.  ]),\n",
              " array([59.84, 37.  ]),\n",
              " array([36., 45.]),\n",
              " array([51.85, 37.  ]),\n",
              " array([42.96, 37.  ]),\n",
              " array([51.84, 27.  ]),\n",
              " array([59.62, 23.  ]),\n",
              " array([58.82, 30.  ]),\n",
              " array([50.93, 30.  ]),\n",
              " array([41.35, 23.  ]),\n",
              " array([24.58, 45.  ]),\n",
              " array([57.74, 22.  ]),\n",
              " array([38.14, 33.  ]),\n",
              " array([51.82, 20.  ]),\n",
              " array([55.01, 24.  ]),\n",
              " array([64.56, 53.  ]),\n",
              " array([46.09, 35.  ]),\n",
              " array([57.81, 20.  ]),\n",
              " array([46.31, 23.  ]),\n",
              " array([66.62, 37.  ]),\n",
              " array([40.82, 23.  ]),\n",
              " array([50.55, 41.  ]),\n",
              " array([40.43, 40.  ]),\n",
              " array([53.36, 25.  ]),\n",
              " array([44.83, 27.  ]),\n",
              " array([35.87, 35.  ]),\n",
              " array([46.95, 23.  ]),\n",
              " array([47.75, 20.  ]),\n",
              " array([57.12, 26.  ]),\n",
              " array([38.03, 43.  ]),\n",
              " array([54.31, 45.  ]),\n",
              " array([50.29, 39.  ]),\n",
              " array([33.6, 24. ]),\n",
              " array([45.13, 44.  ]),\n",
              " array([31.68, 31.  ]),\n",
              " array([48.43, 55.  ]),\n",
              " array([44.48, 36.  ]),\n",
              " array([56.54, 20.  ]),\n",
              " array([54.11, 50.  ]),\n",
              " array([49.51, 29.  ]),\n",
              " array([50.66, 36.  ]),\n",
              " array([61.82, 23.  ]),\n",
              " array([67.7, 43. ]),\n",
              " array([39.63, 31.  ]),\n",
              " array([36.08, 31.  ]),\n",
              " array([45.18, 27.  ]),\n",
              " array([49.33, 28.  ]),\n",
              " array([48.66, 45.  ]),\n",
              " array([53.81, 25.  ]),\n",
              " array([35.57, 44.  ]),\n",
              " array([48.83, 39.  ]),\n",
              " array([69.14, 40.  ]),\n",
              " array([60.75, 59.  ]),\n",
              " array([52.01, 39.  ]),\n",
              " array([47.88, 45.  ]),\n",
              " array([40.3, 30. ]),\n",
              " array([48.52, 30.  ]),\n",
              " array([55.06, 37.  ]),\n",
              " array([48.45, 28.  ]),\n",
              " array([58.65, 40.  ]),\n",
              " array([69.29, 21.  ]),\n",
              " array([51.7, 21. ]),\n",
              " array([53.04, 37.  ]),\n",
              " array([47.97, 27.  ]),\n",
              " array([64.01, 26.  ]),\n",
              " array([61.76, 23.  ]),\n",
              " array([49.98, 28.  ]),\n",
              " array([81.96, 27.  ]),\n",
              " array([56.56, 25.  ]),\n",
              " array([51.69, 30.  ]),\n",
              " array([54.83, 40.  ]),\n",
              " array([54.97, 39.  ]),\n",
              " array([44.07, 27.  ]),\n",
              " array([45.95, 40.  ]),\n",
              " array([42.24, 22.  ]),\n",
              " array([43.52, 49.  ]),\n",
              " array([51.33, 31.  ]),\n",
              " array([56.68, 55.  ]),\n",
              " array([51.06, 24.  ]),\n",
              " array([41.95, 28.  ]),\n",
              " array([53.56, 27.  ]),\n",
              " array([47.86, 45.  ]),\n",
              " array([43.74, 34.  ]),\n",
              " array([41.22, 39.  ]),\n",
              " array([45.82, 42.  ]),\n",
              " array([44.74, 25.  ]),\n",
              " array([53.88, 30.  ]),\n",
              " array([44.4, 29. ]),\n",
              " array([59.01, 35.  ]),\n",
              " array([53.27, 19.  ]),\n",
              " array([45.62, 25.  ]),\n",
              " array([53.16, 53.  ]),\n",
              " array([50.91, 51.  ]),\n",
              " array([33.53, 42.  ]),\n",
              " array([46.92, 33.  ]),\n",
              " array([59.24, 35.  ]),\n",
              " array([48.37, 32.  ]),\n",
              " array([50.26, 21.  ]),\n",
              " array([38.14, 30.  ]),\n",
              " array([63.42, 26.  ]),\n",
              " array([63.79, 33.  ]),\n",
              " array([58.13, 30.  ]),\n",
              " array([56.35, 41.  ]),\n",
              " array([55.65, 27.  ]),\n",
              " array([29.44, 34.  ]),\n",
              " array([49.58, 39.  ]),\n",
              " array([31.3, 33. ]),\n",
              " array([43.48, 29.  ]),\n",
              " array([48.94, 34.  ]),\n",
              " array([43.93, 32.  ]),\n",
              " array([53.83, 36.  ]),\n",
              " array([53.69, 21.  ]),\n",
              " array([40.97, 42.  ]),\n",
              " array([49.29, 21.  ]),\n",
              " array([56.06, 34.  ]),\n",
              " array([66.16, 32.  ]),\n",
              " array([32.61, 23.  ]),\n",
              " array([37.37, 25.  ]),\n",
              " array([46.04, 38.  ]),\n",
              " array([57.17, 33.  ]),\n",
              " array([41.06, 31.  ]),\n",
              " array([47.21, 36.  ]),\n",
              " array([55.74, 44.  ]),\n",
              " array([56.34, 25.  ]),\n",
              " array([61.4, 38. ]),\n",
              " array([59.03, 29.  ]),\n",
              " array([26.76, 22.  ]),\n",
              " array([48.24, 34.  ]),\n",
              " array([50.84, 33.  ]),\n",
              " array([64.25, 28.  ]),\n",
              " array([47.25, 23.  ]),\n",
              " array([59.19, 33.  ]),\n",
              " array([48.87, 25.  ]),\n",
              " array([58.68, 24.  ]),\n",
              " array([51.16, 25.  ]),\n",
              " array([49.48, 34.  ]),\n",
              " array([16.05, 36.  ]),\n",
              " array([53.49, 51.  ]),\n",
              " array([57.19, 19.  ]),\n",
              " array([49.38, 37.  ]),\n",
              " array([49.88, 37.  ]),\n",
              " array([48.81, 30.  ]),\n",
              " array([58.86, 42.  ]),\n",
              " array([45.22, 39.  ]),\n",
              " array([49.25, 25.  ]),\n",
              " array([71.53, 49.  ]),\n",
              " array([49.41, 38.  ]),\n",
              " array([63.19, 21.  ]),\n",
              " array([48.68, 22.  ]),\n",
              " array([50.11, 34.  ]),\n",
              " array([43.56, 24.  ]),\n",
              " array([49.36, 23.  ]),\n",
              " array([23.03, 21.  ]),\n",
              " array([36.14, 30.  ]),\n",
              " array([37.48, 26.  ]),\n",
              " array([46.35, 35.  ]),\n",
              " array([41.54, 27.  ]),\n",
              " array([66.05, 36.  ]),\n",
              " array([47.09, 27.  ]),\n",
              " array([33.84, 35.  ]),\n",
              " array([41.45, 37.  ]),\n",
              " array([54.66, 34.  ]),\n",
              " array([53.23, 47.  ]),\n",
              " array([53.51, 33.  ]),\n",
              " array([48.56, 37.  ]),\n",
              " array([35.91, 30.  ]),\n",
              " array([58.04, 28.  ]),\n",
              " array([37.16, 19.  ]),\n",
              " array([62.65, 41.  ]),\n",
              " array([51.42, 35.  ]),\n",
              " array([46.31, 22.  ]),\n",
              " array([51.36, 33.  ]),\n",
              " array([63.62, 41.  ]),\n",
              " array([56.54, 39.  ]),\n",
              " array([48.58, 36.  ]),\n",
              " array([30.37, 37.  ]),\n",
              " array([51.75, 37.  ]),\n",
              " array([61.68, 24.  ]),\n",
              " array([56.54, 33.  ]),\n",
              " array([46.08, 35.  ]),\n",
              " array([53.21, 39.  ]),\n",
              " array([57.95, 21.  ]),\n",
              " array([53.4, 45. ]),\n",
              " array([50.32, 40.  ]),\n",
              " array([62.06, 37.  ]),\n",
              " array([32.9, 36. ]),\n",
              " array([47.76, 25.  ]),\n",
              " array([28.72, 37.  ]),\n",
              " array([53.37, 40.  ]),\n",
              " array([37.81, 34.  ]),\n",
              " array([48.7, 46. ]),\n",
              " array([53.23, 40.  ]),\n",
              " array([43.47, 33.  ]),\n",
              " array([64.55, 30.  ]),\n",
              " array([59.34, 38.  ]),\n",
              " array([29.92, 49.  ]),\n",
              " array([45.67, 39.  ]),\n",
              " array([44.99, 36.  ]),\n",
              " array([57.87, 38.  ]),\n",
              " array([57.9, 34. ]),\n",
              " array([45.41, 32.  ]),\n",
              " array([66.97, 33.  ]),\n",
              " array([49.37, 40.  ]),\n",
              " array([49.54, 21.  ]),\n",
              " array([51.73, 61.  ]),\n",
              " array([29.68, 30.  ]),\n",
              " array([66.12, 38.  ]),\n",
              " array([52.68, 30.  ]),\n",
              " array([50.32, 46.  ]),\n",
              " array([63.2, 40. ]),\n",
              " array([45.12, 25.  ]),\n",
              " array([38.69, 22.  ]),\n",
              " array([50.77, 32.  ]),\n",
              " array([48., 23.]),\n",
              " array([55.36, 47.  ]),\n",
              " array([53.11, 48.  ]),\n",
              " array([38.51, 28.  ]),\n",
              " array([38.96, 21.  ]),\n",
              " array([27.4, 30. ]),\n",
              " array([34.95, 35.  ]),\n",
              " array([68.86, 31.  ]),\n",
              " array([60.4, 28. ]),\n",
              " array([37.33, 38.  ]),\n",
              " array([59.63, 24.  ]),\n",
              " array([33.92, 43.  ]),\n",
              " array([53.74, 31.  ]),\n",
              " array([45.51, 33.  ]),\n",
              " array([55.09, 19.  ]),\n",
              " array([58.44, 19.  ]),\n",
              " array([43.75, 19.  ]),\n",
              " array([47.07, 33.  ]),\n",
              " array([47.89, 28.  ]),\n",
              " array([53.3, 41. ]),\n",
              " array([57.02, 37.  ]),\n",
              " array([43.44, 31.  ]),\n",
              " array([38.49, 21.  ]),\n",
              " array([61.08, 24.  ]),\n",
              " array([62.52, 41.  ]),\n",
              " array([60.04, 34.  ]),\n",
              " array([53.63, 20.  ]),\n",
              " array([44.96, 46.  ]),\n",
              " array([43.37, 50.  ]),\n",
              " array([31.88, 30.  ]),\n",
              " array([41.01, 37.  ]),\n",
              " array([63.38, 41.  ]),\n",
              " array([55.92, 22.  ]),\n",
              " array([51.54, 22.  ]),\n",
              " array([39.27, 34.  ]),\n",
              " array([63.59, 21.  ]),\n",
              " array([53.12, 30.  ]),\n",
              " array([61.69, 36.  ]),\n",
              " array([49.56, 24.  ]),\n",
              " array([45.44, 29.  ]),\n",
              " array([50.28, 21.  ]),\n",
              " array([47.42, 35.  ]),\n",
              " array([45.8, 28. ]),\n",
              " array([38.07, 23.  ]),\n",
              " array([44.13, 24.  ]),\n",
              " array([51.91, 59.  ]),\n",
              " array([51.7, 36. ]),\n",
              " array([39.66, 19.  ]),\n",
              " array([49.73, 26.  ]),\n",
              " array([52.86, 24.  ]),\n",
              " array([55.81, 29.  ]),\n",
              " array([42.86, 24.  ]),\n",
              " array([52.31, 25.  ]),\n",
              " array([62.35, 28.  ]),\n",
              " array([48.51, 23.  ]),\n",
              " array([48.01, 32.  ]),\n",
              " array([45.44, 28.  ]),\n",
              " array([52.54, 22.  ]),\n",
              " array([59.23, 40.  ]),\n",
              " array([31.85, 37.  ]),\n",
              " array([49.4, 54. ]),\n",
              " array([51.11, 25.  ]),\n",
              " array([64.34, 47.  ]),\n",
              " array([58.32, 42.  ]),\n",
              " array([65.75, 34.  ]),\n",
              " array([51.33, 38.  ]),\n",
              " array([50., 27.]),\n",
              " array([63.06, 27.  ]),\n",
              " array([64.66, 24.  ]),\n",
              " array([54.99, 36.  ]),\n",
              " array([40.95, 35.  ]),\n",
              " array([52.29, 40.  ]),\n",
              " array([40.47, 30.  ]),\n",
              " array([59.56, 42.  ]),\n",
              " array([58., 46.]),\n",
              " array([55.12, 34.  ]),\n",
              " array([59.21, 26.  ]),\n",
              " array([65.54, 39.  ]),\n",
              " array([55.64, 24.  ]),\n",
              " array([62.4, 40. ]),\n",
              " array([51.01, 22.  ]),\n",
              " array([48.83, 24.  ]),\n",
              " array([57.58, 35.  ]),\n",
              " array([47.21, 34.  ]),\n",
              " array([49.26, 26.  ]),\n",
              " array([59.51, 30.  ]),\n",
              " array([46.12, 33.  ]),\n",
              " array([51.7, 37. ]),\n",
              " array([40.04, 35.  ])]"
            ]
          },
          "metadata": {},
          "execution_count": 147
        }
      ]
    },
    {
      "cell_type": "code",
      "metadata": {
        "colab": {
          "base_uri": "https://localhost:8080/"
        },
        "id": "W-U8Qwy3u9yN",
        "outputId": "41ce6b7b-4077-4225-fe28-4a7cea62f0c3"
      },
      "source": [
        "np.where(numpy.array(clusters[0]) == data_numpy[0])"
      ],
      "execution_count": null,
      "outputs": [
        {
          "output_type": "execute_result",
          "data": {
            "text/plain": [
              "(array([ 66, 110, 130]), array([1, 1, 1]))"
            ]
          },
          "metadata": {},
          "execution_count": 78
        }
      ]
    },
    {
      "cell_type": "code",
      "metadata": {
        "colab": {
          "base_uri": "https://localhost:8080/"
        },
        "id": "mJ_Sgg9AwQ5t",
        "outputId": "5d7d37fa-29a0-4368-ec48-2265bb227e24"
      },
      "source": [
        "ti = np.array(clusters[2])\n",
        "np.all(ti == data_numpy[0])"
      ],
      "execution_count": null,
      "outputs": [
        {
          "output_type": "execute_result",
          "data": {
            "text/plain": [
              "False"
            ]
          },
          "metadata": {},
          "execution_count": 105
        }
      ]
    },
    {
      "cell_type": "code",
      "metadata": {
        "colab": {
          "base_uri": "https://localhost:8080/"
        },
        "id": "0xNsfz_gwmPA",
        "outputId": "606b7696-2bbf-4171-90ef-cf5c13f2cd13"
      },
      "source": [
        "np.where(ti[:,0] == data_numpy[0][0])"
      ],
      "execution_count": null,
      "outputs": [
        {
          "output_type": "execute_result",
          "data": {
            "text/plain": [
              "(array([], dtype=int64),)"
            ]
          },
          "metadata": {},
          "execution_count": 85
        }
      ]
    },
    {
      "cell_type": "code",
      "metadata": {
        "colab": {
          "base_uri": "https://localhost:8080/"
        },
        "id": "OkYyfGAYxtYs",
        "outputId": "0267255e-eab5-4577-df68-bf4f33987254"
      },
      "source": [
        ""
      ],
      "execution_count": null,
      "outputs": [
        {
          "output_type": "execute_result",
          "data": {
            "text/plain": [
              "True"
            ]
          },
          "metadata": {},
          "execution_count": 98
        }
      ]
    },
    {
      "cell_type": "code",
      "metadata": {
        "colab": {
          "base_uri": "https://localhost:8080/",
          "height": 287
        },
        "id": "CMokPsAV_Wah",
        "outputId": "ab81f47f-e48b-48fd-ef51-94f9f8dbef9d"
      },
      "source": [
        "import seaborn as sns\n",
        "import matplotlib.pyplot as plt\n",
        "fig, ax = plt.subplots()\n",
        "ax.set_xlim(0,250)\n",
        "ax.set_ylim(0,100)"
      ],
      "execution_count": null,
      "outputs": [
        {
          "output_type": "execute_result",
          "data": {
            "text/plain": [
              "(0.0, 100.0)"
            ]
          },
          "metadata": {},
          "execution_count": 139
        },
        {
          "output_type": "display_data",
          "data": {
            "image/png": "[encoded data removed]",
            "text/plain": [
              "<Figure size 432x288 with 1 Axes>"
            ]
          },
          "metadata": {
            "needs_background": "light"
          }
        }
      ]
    },
    {
      "cell_type": "code",
      "metadata": {
        "colab": {
          "base_uri": "https://localhost:8080/"
        },
        "id": "XaIveZGu_ujN",
        "outputId": "4bbf4b0c-88b5-4da9-ecbd-ea95d6390548"
      },
      "source": [
        "sns.scatterplot(data_numpy[:,0], data_numpy[:,1], ax = ax)\n",
        "fig.savefig('test.png')"
      ],
      "execution_count": null,
      "outputs": [
        {
          "output_type": "stream",
          "name": "stderr",
          "text": [
            "/usr/local/lib/python3.7/dist-packages/seaborn/_decorators.py:43: FutureWarning: Pass the following variables as keyword args: x, y. From version 0.12, the only valid positional argument will be `data`, and passing other arguments without an explicit keyword will result in an error or misinterpretation.\n",
            "  FutureWarning\n"
          ]
        }
      ]
    },
    {
      "cell_type": "code",
      "metadata": {
        "colab": {
          "base_uri": "https://localhost:8080/",
          "height": 904
        },
        "id": "oO-nYeZQBW63",
        "outputId": "b450612d-b7e2-4a62-efe8-0d3f6808ffe2"
      },
      "source": [
        "\n",
        "for i in range(3):\n",
        "  cluster = np.array(clusters[i])\n",
        "  x,y = cluster[:,0], cluster[:,1]\n",
        "  fig, ax = plt.subplots()\n",
        "  ax.set_xlim(0,250)\n",
        "  ax.set_ylim(0,100)\n",
        "  sns.scatterplot(x,y, ax = ax)\n",
        "  fig.savefig('test' + str(i) + '.png')"
      ],
      "execution_count": null,
      "outputs": [
        {
          "output_type": "stream",
          "name": "stderr",
          "text": [
            "/usr/local/lib/python3.7/dist-packages/seaborn/_decorators.py:43: FutureWarning: Pass the following variables as keyword args: x, y. From version 0.12, the only valid positional argument will be `data`, and passing other arguments without an explicit keyword will result in an error or misinterpretation.\n",
            "  FutureWarning\n",
            "/usr/local/lib/python3.7/dist-packages/seaborn/_decorators.py:43: FutureWarning: Pass the following variables as keyword args: x, y. From version 0.12, the only valid positional argument will be `data`, and passing other arguments without an explicit keyword will result in an error or misinterpretation.\n",
            "  FutureWarning\n",
            "/usr/local/lib/python3.7/dist-packages/seaborn/_decorators.py:43: FutureWarning: Pass the following variables as keyword args: x, y. From version 0.12, the only valid positional argument will be `data`, and passing other arguments without an explicit keyword will result in an error or misinterpretation.\n",
            "  FutureWarning\n"
          ]
        },
        {
          "output_type": "display_data",
          "data": {
            "image/png": "[encoded data removed]",
            "text/plain": [
              "<Figure size 432x288 with 1 Axes>"
            ]
          },
          "metadata": {
            "needs_background": "light"
          }
        },
        {
          "output_type": "display_data",
          "data": {
            "image/png": "[encoded data removed]",
            "text/plain": [
              "<Figure size 432x288 with 1 Axes>"
            ]
          },
          "metadata": {
            "needs_background": "light"
          }
        },
        {
          "output_type": "display_data",
          "data": {
            "image/png": "[encoded data removed]",
            "text/plain": [
              "<Figure size 432x288 with 1 Axes>"
            ]
          },
          "metadata": {
            "needs_background": "light"
          }
        }
      ]
    },
    {
      "cell_type": "code",
      "metadata": {
        "colab": {
          "base_uri": "https://localhost:8080/"
        },
        "id": "MGNZG_rJBfes",
        "outputId": "575b0f18-141b-402f-d2fe-c1720d7edc5f"
      },
      "source": [
        "cluster = np.array(clusters[i])\n",
        "cluster.shape"
      ],
      "execution_count": null,
      "outputs": [
        {
          "data": {
            "text/plain": [
              "(799, 2)"
            ]
          },
          "execution_count": 299,
          "metadata": {},
          "output_type": "execute_result"
        }
      ]
    },
    {
      "cell_type": "code",
      "metadata": {
        "id": "dCDUIx08B6Tp"
      },
      "source": [
        "labels = []\n",
        "for point in data_numpy:\n",
        "\n",
        "  for i in range(4):\n",
        "    concat = np.concatenate(clusters[i]).reshape(-1,2)\n",
        "    if point in concat:\n",
        "      labels.append(i)\n",
        "      break\n",
        "      "
      ],
      "execution_count": null,
      "outputs": []
    },
    {
      "cell_type": "code",
      "metadata": {
        "id": "7eRDhLu2NN4A"
      },
      "source": [
        ""
      ],
      "execution_count": null,
      "outputs": []
    },
    {
      "cell_type": "code",
      "metadata": {
        "id": "bNEMpWmHB-RP"
      },
      "source": [
        "a = np.concatenate(clusters[0]).reshape(-1,2)"
      ],
      "execution_count": null,
      "outputs": []
    },
    {
      "cell_type": "code",
      "metadata": {
        "colab": {
          "base_uri": "https://localhost:8080/"
        },
        "id": "2P4mw0MmKglm",
        "outputId": "ceda3b53-4cc5-4468-afc2-8c201a78b1c8"
      },
      "source": [
        "data_numpy[5] in a"
      ],
      "execution_count": null,
      "outputs": [
        {
          "data": {
            "text/plain": [
              "True"
            ]
          },
          "execution_count": 363,
          "metadata": {},
          "output_type": "execute_result"
        }
      ]
    },
    {
      "cell_type": "code",
      "metadata": {
        "colab": {
          "base_uri": "https://localhost:8080/"
        },
        "id": "zUJ6kdd1Khbc",
        "outputId": "fa300808-596e-49fd-f3a7-edfdf8f4a66a"
      },
      "source": [
        "data.shape"
      ],
      "execution_count": null,
      "outputs": [
        {
          "data": {
            "text/plain": [
              "(4000, 2)"
            ]
          },
          "execution_count": 250,
          "metadata": {},
          "output_type": "execute_result"
        }
      ]
    },
    {
      "cell_type": "code",
      "metadata": {
        "colab": {
          "base_uri": "https://localhost:8080/"
        },
        "id": "sX9SDofWD06Z",
        "outputId": "5b9da5af-26c9-4aaa-b514-ab5f6277fb74"
      },
      "source": [
        "np.random.randn(1, data.shape[1])"
      ],
      "execution_count": null,
      "outputs": [
        {
          "data": {
            "text/plain": [
              "array([[ 1.80605286, -0.78256313]])"
            ]
          },
          "execution_count": 251,
          "metadata": {},
          "output_type": "execute_result"
        }
      ]
    },
    {
      "cell_type": "code",
      "metadata": {
        "id": "49N-T_s1D5KF"
      },
      "source": [
        ""
      ],
      "execution_count": null,
      "outputs": []
    }
  ]
}