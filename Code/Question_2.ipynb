{
  "nbformat": 4,
  "nbformat_minor": 0,
  "metadata": {
    "colab": {
      "name": "Question_2.ipynb",
      "provenance": [],
      "collapsed_sections": []
    },
    "kernelspec": {
      "display_name": "Python 3",
      "name": "python3"
    },
    "language_info": {
      "name": "python"
    }
  },
  "cells": [
    {
      "cell_type": "markdown",
      "metadata": {
        "id": "K3oK3T7Bl4q0"
      },
      "source": [
        "## K - Means Implementation"
      ]
    },
    {
      "cell_type": "markdown",
      "metadata": {
        "id": "wb4hfAXj6rXa"
      },
      "source": [
        "The below code cell has the core implementation of K-Means"
      ]
    },
    {
      "cell_type": "code",
      "metadata": {
        "id": "goi_be4sfw8K"
      },
      "source": [
        "\n",
        "import numpy as np\n",
        "\n",
        "class k_means():\n",
        "\n",
        "  def __init__(self, k = 3, tol=1e-9):\n",
        "    '''\n",
        "    Input :\n",
        "    1) number of clusters k\n",
        "    '''\n",
        "    self.k = k\n",
        "    self.tol = tol\n",
        "    self.old_centers = np.array([])\n",
        "\n",
        "  def euclidean_distance(self, p1, p2):\n",
        "    '''\n",
        "    Calculates the euclidean distance between two points\n",
        "    Input:\n",
        "    1) p1 has the dimension 1xn\n",
        "    2) p2 has the dimension 1xn\n",
        "    Output:\n",
        "    1) distance is the euclidean distance between point p1, and p2\n",
        "    '''\n",
        "    distance = np.linalg.norm(p2-p1)\n",
        "    return distance\n",
        "\n",
        "  def label_fetcher(self, distance_metric_T):\n",
        "    '''\n",
        "    Calculates the label of each data points with respect to cluster number.\n",
        "    Input:\n",
        "    1) The distance metric is a matrix which contains distances of all points with respect to each cluster. The transpose will have each row as a datapoint's distance to each cluster center\n",
        "    Output:\n",
        "    1) label_array is the array containing labels of each data points\n",
        "    '''\n",
        "    labels = []\n",
        "    for row in distance_metric_T:\n",
        "      self.row = row\n",
        "      min_index = np.argmin(row)\n",
        "      labels.append(min_index)\n",
        "    \n",
        "    return np.array(labels)\n",
        "\n",
        "\n",
        "\n",
        "  def points_to_cluster_distance(self, data_points, cluster_center):\n",
        "    '''\n",
        "    Calculates the distance array of data_points with respect to the cluster_center\n",
        "    Input :\n",
        "    1) data_points\n",
        "    2) cluster_center has the dimension 1xn\n",
        "    Output:\n",
        "    1) Returns the distance array\n",
        "    '''\n",
        "    distance_array = []\n",
        "    # Calculating the distance of each point with the cluster center below, and appending it to the distance array\n",
        "    for point in data_points:\n",
        "      dist = self.euclidean_distance(point, cluster_center)\n",
        "      distance_array.append(dist)\n",
        "    distance_array = np.array(distance_array)\n",
        "    return distance_array\n",
        "\n",
        "\n",
        "  def breaking_condition(self, cluster_center, old_center):\n",
        "    self.cluster_center = cluster_center\n",
        "    self.old_center = old_center\n",
        "    cluster_center = np.concatenate(cluster_center)\n",
        "    old_center = np.concatenate(old_center)\n",
        "    dist = self.euclidean_distance(cluster_center, old_center)\n",
        "    return dist\n",
        "\n",
        "  def fit(self, data):\n",
        "    '''\n",
        "    This function will find the cluster centers, and the assign cluster labels to each samples.\n",
        "    Input :\n",
        "    1) data:\n",
        "       data has the dimension m x n, where m is the number of samples, and n is the dimension. The format of data must be a numpy array.\n",
        "\n",
        "    Output:\n",
        "    1) cluster_centers:\n",
        "        It is a list which contains each cluster centers\n",
        "    2) labels:\n",
        "        The labels assigned to each data point, and has the dimension m x 1\n",
        "    '''\n",
        "    k = self.k\n",
        "    iteration = 0\n",
        "    # Randomly intializing the clusters\n",
        "    cluster_centers = []\n",
        "    for i in range(k):\n",
        "      cluster_centers.append(np.squeeze(np.random.randn(1, data.shape[1])))\n",
        "    \n",
        "    self.debug = cluster_centers\n",
        "\n",
        "    while(1):\n",
        "      iteration += 1\n",
        "      clusters = {}\n",
        "      for i in range(k):\n",
        "        clusters[i] = []\n",
        "\n",
        "      \n",
        "\n",
        "      #Assigning points to the cluster\n",
        "      for sample in data:\n",
        "        distance_array = []\n",
        "        for cluster in cluster_centers:\n",
        "          distance = self.euclidean_distance(sample, cluster)\n",
        "          distance_array.append(distance)\n",
        "        min_index = np.argmin(distance_array)\n",
        "        clusters[min_index].append(sample)\n",
        "      \n",
        "      #Calculating mean\n",
        "      old_centers = cluster_centers\n",
        "      cluster_centers = []\n",
        "\n",
        "      for i in range(k):\n",
        "      \n",
        "        if(len(clusters[i]) ==  0): # This handles the situation where clusters have 0 members, or empty cluster situation\n",
        "          cluster_centers.append(np.squeeze(np.random.randn(1, data.shape[1])))\n",
        "          continue\n",
        "        mean = np.squeeze(np.mean(clusters[i], axis=0))\n",
        "        cluster_centers.append(mean)\n",
        "\n",
        "      # DEBUG\n",
        "      self.cluster_centers = cluster_centers\n",
        "      self.old_centers = old_centers\n",
        "      if(self.breaking_condition(cluster_centers, old_centers) <= self.tol):\n",
        "        break\n",
        "\n",
        "    return clusters, cluster_centers, iteration\n",
        "\n",
        "\n",
        "      \n",
        "\n",
        "    \n",
        "    \n",
        "    \n",
        "\n",
        "\n",
        "\n",
        "  \n"
      ],
      "execution_count": null,
      "outputs": []
    },
    {
      "cell_type": "code",
      "metadata": {
        "id": "uyNwUChwWvmM"
      },
      "source": [
        ""
      ],
      "execution_count": null,
      "outputs": []
    },
    {
      "cell_type": "code",
      "metadata": {
        "id": "_Rnl3AvTWvoo"
      },
      "source": [
        ""
      ],
      "execution_count": null,
      "outputs": []
    },
    {
      "cell_type": "code",
      "metadata": {
        "id": "rQn1_INBWvrG"
      },
      "source": [
        ""
      ],
      "execution_count": null,
      "outputs": []
    },
    {
      "cell_type": "code",
      "metadata": {
        "id": "lvY9khVxWvuR"
      },
      "source": [
        ""
      ],
      "execution_count": null,
      "outputs": []
    },
    {
      "cell_type": "markdown",
      "metadata": {
        "id": "EOzDk3JnWxk1"
      },
      "source": [
        "# Elbow method, and Silhoutte Score.\n",
        "\n",
        "The implmenetation of silhoutte score is below"
      ]
    },
    {
      "cell_type": "code",
      "metadata": {
        "id": "7DO0PXVpWvxr"
      },
      "source": [
        "def silhoutte score(data, clusters, centers):\n",
        "  k = len(centers)\n",
        "  a = []\n",
        "  for point in data:\n",
        "    cluster_index = np.where()\n",
        "    for cluster_points in clusters[]\n",
        "\n"
      ],
      "execution_count": null,
      "outputs": []
    },
    {
      "cell_type": "code",
      "metadata": {
        "id": "KBaRCkUq8JOS"
      },
      "source": [
        "### TESTING ###\n",
        "import pandas as pd\n",
        "data = pd.read_csv(\"driver-data.csv\", index_col=\"id\")\n",
        "data.head()\n",
        "data_numpy = data.to_numpy()"
      ],
      "execution_count": null,
      "outputs": []
    },
    {
      "cell_type": "code",
      "metadata": {
        "id": "9WZvuOsl8K-8"
      },
      "source": [
        "kmeans = k_means(2)"
      ],
      "execution_count": null,
      "outputs": []
    },
    {
      "cell_type": "code",
      "metadata": {
        "id": "sM4JDpDn8NF9"
      },
      "source": [
        "clusters, cluster_centers, iteration = kmeans.fit(data_numpy)"
      ],
      "execution_count": null,
      "outputs": []
    },
    {
      "cell_type": "code",
      "metadata": {
        "colab": {
          "base_uri": "https://localhost:8080/",
          "height": 287
        },
        "id": "CMokPsAV_Wah",
        "outputId": "6302349d-b2cb-4a09-d396-bb28c1a2c148"
      },
      "source": [
        "import seaborn as sns\n",
        "import matplotlib.pyplot as plt\n",
        "fig, ax = plt.subplots()\n",
        "ax.set_xlim(0,250)\n",
        "ax.set_ylim(0,100)"
      ],
      "execution_count": null,
      "outputs": [
        {
          "data": {
            "text/plain": [
              "(0.0, 100.0)"
            ]
          },
          "execution_count": 406,
          "metadata": {},
          "output_type": "execute_result"
        },
        {
          "data": {
            "image/png": "[encoded data removed]",
            "text/plain": [
              "<Figure size 432x288 with 1 Axes>"
            ]
          },
          "metadata": {},
          "output_type": "display_data"
        }
      ]
    },
    {
      "cell_type": "code",
      "metadata": {
        "colab": {
          "base_uri": "https://localhost:8080/"
        },
        "id": "XaIveZGu_ujN",
        "outputId": "9a6cd381-b699-4d97-f18b-77e9d4b40fb7"
      },
      "source": [
        "sns.scatterplot(data_numpy[:,0], data_numpy[:,1], ax = ax)\n",
        "fig.savefig('test.png')"
      ],
      "execution_count": null,
      "outputs": [
        {
          "name": "stderr",
          "output_type": "stream",
          "text": [
            "/usr/local/lib/python3.7/dist-packages/seaborn/_decorators.py:43: FutureWarning: Pass the following variables as keyword args: x, y. From version 0.12, the only valid positional argument will be `data`, and passing other arguments without an explicit keyword will result in an error or misinterpretation.\n",
            "  FutureWarning\n"
          ]
        }
      ]
    },
    {
      "cell_type": "code",
      "metadata": {
        "colab": {
          "base_uri": "https://localhost:8080/",
          "height": 863
        },
        "id": "oO-nYeZQBW63",
        "outputId": "6715731f-5764-4265-f7d2-cc3ed39651c6"
      },
      "source": [
        "\n",
        "for i in range(3):\n",
        "  cluster = np.array(clusters[i])\n",
        "  x,y = cluster[:,0], cluster[:,1]\n",
        "  fig, ax = plt.subplots()\n",
        "  ax.set_xlim(0,250)\n",
        "  ax.set_ylim(0,100)\n",
        "  sns.scatterplot(x,y, ax = ax)\n",
        "  fig.savefig('test' + str(i) + '.png')"
      ],
      "execution_count": null,
      "outputs": [
        {
          "name": "stderr",
          "output_type": "stream",
          "text": [
            "/usr/local/lib/python3.7/dist-packages/seaborn/_decorators.py:43: FutureWarning: Pass the following variables as keyword args: x, y. From version 0.12, the only valid positional argument will be `data`, and passing other arguments without an explicit keyword will result in an error or misinterpretation.\n",
            "  FutureWarning\n",
            "/usr/local/lib/python3.7/dist-packages/seaborn/_decorators.py:43: FutureWarning: Pass the following variables as keyword args: x, y. From version 0.12, the only valid positional argument will be `data`, and passing other arguments without an explicit keyword will result in an error or misinterpretation.\n",
            "  FutureWarning\n"
          ]
        },
        {
          "ename": "KeyError",
          "evalue": "ignored",
          "output_type": "error",
          "traceback": [
            "\u001b[0;31m---------------------------------------------------------------------------\u001b[0m",
            "\u001b[0;31mKeyError\u001b[0m                                  Traceback (most recent call last)",
            "\u001b[0;32m<ipython-input-408-d78dd5febb9f>\u001b[0m in \u001b[0;36m<module>\u001b[0;34m()\u001b[0m\n\u001b[1;32m      1\u001b[0m \u001b[0;34m\u001b[0m\u001b[0m\n\u001b[1;32m      2\u001b[0m \u001b[0;32mfor\u001b[0m \u001b[0mi\u001b[0m \u001b[0;32min\u001b[0m \u001b[0mrange\u001b[0m\u001b[0;34m(\u001b[0m\u001b[0;36m3\u001b[0m\u001b[0;34m)\u001b[0m\u001b[0;34m:\u001b[0m\u001b[0;34m\u001b[0m\u001b[0;34m\u001b[0m\u001b[0m\n\u001b[0;32m----> 3\u001b[0;31m   \u001b[0mcluster\u001b[0m \u001b[0;34m=\u001b[0m \u001b[0mnp\u001b[0m\u001b[0;34m.\u001b[0m\u001b[0marray\u001b[0m\u001b[0;34m(\u001b[0m\u001b[0mclusters\u001b[0m\u001b[0;34m[\u001b[0m\u001b[0mi\u001b[0m\u001b[0;34m]\u001b[0m\u001b[0;34m)\u001b[0m\u001b[0;34m\u001b[0m\u001b[0;34m\u001b[0m\u001b[0m\n\u001b[0m\u001b[1;32m      4\u001b[0m   \u001b[0mx\u001b[0m\u001b[0;34m,\u001b[0m\u001b[0my\u001b[0m \u001b[0;34m=\u001b[0m \u001b[0mcluster\u001b[0m\u001b[0;34m[\u001b[0m\u001b[0;34m:\u001b[0m\u001b[0;34m,\u001b[0m\u001b[0;36m0\u001b[0m\u001b[0;34m]\u001b[0m\u001b[0;34m,\u001b[0m \u001b[0mcluster\u001b[0m\u001b[0;34m[\u001b[0m\u001b[0;34m:\u001b[0m\u001b[0;34m,\u001b[0m\u001b[0;36m1\u001b[0m\u001b[0;34m]\u001b[0m\u001b[0;34m\u001b[0m\u001b[0;34m\u001b[0m\u001b[0m\n\u001b[1;32m      5\u001b[0m   \u001b[0mfig\u001b[0m\u001b[0;34m,\u001b[0m \u001b[0max\u001b[0m \u001b[0;34m=\u001b[0m \u001b[0mplt\u001b[0m\u001b[0;34m.\u001b[0m\u001b[0msubplots\u001b[0m\u001b[0;34m(\u001b[0m\u001b[0;34m)\u001b[0m\u001b[0;34m\u001b[0m\u001b[0;34m\u001b[0m\u001b[0m\n",
            "\u001b[0;31mKeyError\u001b[0m: 2"
          ]
        },
        {
          "data": {
            "image/png": "[encoded data removed]",
            "text/plain": [
              "<Figure size 432x288 with 1 Axes>"
            ]
          },
          "metadata": {},
          "output_type": "display_data"
        },
        {
          "data": {
            "image/png": "[encoded data removed]",
            "text/plain": [
              "<Figure size 432x288 with 1 Axes>"
            ]
          },
          "metadata": {},
          "output_type": "display_data"
        }
      ]
    },
    {
      "cell_type": "code",
      "metadata": {
        "colab": {
          "base_uri": "https://localhost:8080/"
        },
        "id": "MGNZG_rJBfes",
        "outputId": "575b0f18-141b-402f-d2fe-c1720d7edc5f"
      },
      "source": [
        "cluster = np.array(clusters[i])\n",
        "cluster.shape"
      ],
      "execution_count": null,
      "outputs": [
        {
          "data": {
            "text/plain": [
              "(799, 2)"
            ]
          },
          "execution_count": 299,
          "metadata": {},
          "output_type": "execute_result"
        }
      ]
    },
    {
      "cell_type": "code",
      "metadata": {
        "id": "dCDUIx08B6Tp"
      },
      "source": [
        "labels = []\n",
        "for point in data_numpy:\n",
        "\n",
        "  for i in range(4):\n",
        "    concat = np.concatenate(clusters[i]).reshape(-1,2)\n",
        "    if point in concat:\n",
        "      labels.append(i)\n",
        "      break\n",
        "      "
      ],
      "execution_count": null,
      "outputs": []
    },
    {
      "cell_type": "code",
      "metadata": {
        "id": "7eRDhLu2NN4A"
      },
      "source": [
        ""
      ],
      "execution_count": null,
      "outputs": []
    },
    {
      "cell_type": "code",
      "metadata": {
        "id": "bNEMpWmHB-RP"
      },
      "source": [
        "a = np.concatenate(clusters[0]).reshape(-1,2)"
      ],
      "execution_count": null,
      "outputs": []
    },
    {
      "cell_type": "code",
      "metadata": {
        "colab": {
          "base_uri": "https://localhost:8080/"
        },
        "id": "2P4mw0MmKglm",
        "outputId": "ceda3b53-4cc5-4468-afc2-8c201a78b1c8"
      },
      "source": [
        "data_numpy[5] in a"
      ],
      "execution_count": null,
      "outputs": [
        {
          "data": {
            "text/plain": [
              "True"
            ]
          },
          "execution_count": 363,
          "metadata": {},
          "output_type": "execute_result"
        }
      ]
    },
    {
      "cell_type": "code",
      "metadata": {
        "colab": {
          "base_uri": "https://localhost:8080/"
        },
        "id": "zUJ6kdd1Khbc",
        "outputId": "fa300808-596e-49fd-f3a7-edfdf8f4a66a"
      },
      "source": [
        "data.shape"
      ],
      "execution_count": null,
      "outputs": [
        {
          "data": {
            "text/plain": [
              "(4000, 2)"
            ]
          },
          "execution_count": 250,
          "metadata": {},
          "output_type": "execute_result"
        }
      ]
    },
    {
      "cell_type": "code",
      "metadata": {
        "colab": {
          "base_uri": "https://localhost:8080/"
        },
        "id": "sX9SDofWD06Z",
        "outputId": "5b9da5af-26c9-4aaa-b514-ab5f6277fb74"
      },
      "source": [
        "np.random.randn(1, data.shape[1])"
      ],
      "execution_count": null,
      "outputs": [
        {
          "data": {
            "text/plain": [
              "array([[ 1.80605286, -0.78256313]])"
            ]
          },
          "execution_count": 251,
          "metadata": {},
          "output_type": "execute_result"
        }
      ]
    },
    {
      "cell_type": "code",
      "metadata": {
        "id": "49N-T_s1D5KF"
      },
      "source": [
        ""
      ],
      "execution_count": null,
      "outputs": []
    }
  ]
}