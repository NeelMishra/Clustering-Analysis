{
  "nbformat": 4,
  "nbformat_minor": 0,
  "metadata": {
    "colab": {
      "name": "Question_2.ipynb",
      "provenance": [],
      "collapsed_sections": []
    },
    "kernelspec": {
      "display_name": "Python 3",
      "name": "python3"
    },
    "language_info": {
      "name": "python"
    }
  },
  "cells": [
    {
      "cell_type": "markdown",
      "metadata": {
        "id": "K3oK3T7Bl4q0"
      },
      "source": [
        "## K - Means Implementation"
      ]
    },
    {
      "cell_type": "markdown",
      "metadata": {
        "id": "wb4hfAXj6rXa"
      },
      "source": [
        "The below code cell has the core implementation of K-Means"
      ]
    },
    {
      "cell_type": "code",
      "metadata": {
        "id": "goi_be4sfw8K"
      },
      "source": [
        "\n",
        "import numpy as np\n",
        "\n",
        "class k_means():\n",
        "\n",
        "  def __init__(self, k = 3, tol=1e-9):\n",
        "    '''\n",
        "    Input :\n",
        "    1) number of clusters k\n",
        "    '''\n",
        "    self.k = k\n",
        "    self.tol = tol\n",
        "    self.old_centers = np.array([])\n",
        "\n",
        "  def euclidean_distance(self, p1, p2):\n",
        "    '''\n",
        "    Calculates the euclidean distance between two points\n",
        "    Input:\n",
        "    1) p1 has the dimension 1xn\n",
        "    2) p2 has the dimension 1xn\n",
        "    Output:\n",
        "    1) distance is the euclidean distance between point p1, and p2\n",
        "    '''\n",
        "    distance = np.linalg.norm(p2-p1)\n",
        "    return distance\n",
        "\n",
        "  def label_fetcher(self, distance_metric_T):\n",
        "    '''\n",
        "    Calculates the label of each data points with respect to cluster number.\n",
        "    Input:\n",
        "    1) The distance metric is a matrix which contains distances of all points with respect to each cluster. The transpose will have each row as a datapoint's distance to each cluster center\n",
        "    Output:\n",
        "    1) label_array is the array containing labels of each data points\n",
        "    '''\n",
        "    labels = []\n",
        "    for row in distance_metric_T:\n",
        "      self.row = row\n",
        "      min_index = np.argmin(row)\n",
        "      labels.append(min_index)\n",
        "    \n",
        "    return np.array(labels)\n",
        "\n",
        "\n",
        "\n",
        "  def points_to_cluster_distance(self, data_points, cluster_center):\n",
        "    '''\n",
        "    Calculates the distance array of data_points with respect to the cluster_center\n",
        "    Input :\n",
        "    1) data_points\n",
        "    2) cluster_center has the dimension 1xn\n",
        "    Output:\n",
        "    1) Returns the distance array\n",
        "    '''\n",
        "    distance_array = []\n",
        "    # Calculating the distance of each point with the cluster center below, and appending it to the distance array\n",
        "    for point in data_points:\n",
        "      dist = self.euclidean_distance(point, cluster_center)\n",
        "      distance_array.append(dist)\n",
        "    distance_array = np.array(distance_array)\n",
        "    return distance_array\n",
        "\n",
        "\n",
        "  def breaking_condition(self, cluster_center, old_center):\n",
        "    self.cluster_center = cluster_center\n",
        "    self.old_center = old_center\n",
        "    cluster_center = np.concatenate(cluster_center)\n",
        "    old_center = np.concatenate(old_center)\n",
        "    dist = self.euclidean_distance(cluster_center, old_center)\n",
        "    return dist\n",
        "\n",
        "  def fit(self, data):\n",
        "    '''\n",
        "    This function will find the cluster centers, and the assign cluster labels to each samples.\n",
        "    Input :\n",
        "    1) data:\n",
        "       data has the dimension m x n, where m is the number of samples, and n is the dimension. The format of data must be a numpy array.\n",
        "\n",
        "    Output:\n",
        "    1) cluster_centers:\n",
        "        It is a list which contains each cluster centers\n",
        "    2) labels:\n",
        "        The labels assigned to each data point, and has the dimension m x 1\n",
        "    '''\n",
        "    k = self.k\n",
        "    iteration = 0\n",
        "    # Randomly intializing the clusters\n",
        "    cluster_centers = []\n",
        "    for i in range(k):\n",
        "      cluster_centers.append(np.squeeze(np.random.randn(1, data.shape[1])))\n",
        "    \n",
        "    self.debug = cluster_centers\n",
        "\n",
        "    while(1):\n",
        "      iteration += 1\n",
        "      clusters = {}\n",
        "      labels = []\n",
        "      for i in range(k):\n",
        "        clusters[i] = []\n",
        "\n",
        "      \n",
        "\n",
        "      #Assigning points to the cluster\n",
        "      for sample in data:\n",
        "        distance_array = []\n",
        "        for cluster in cluster_centers:\n",
        "          distance = self.euclidean_distance(sample, cluster)\n",
        "          distance_array.append(distance)\n",
        "        min_index = np.argmin(distance_array)\n",
        "        \n",
        "        clusters[min_index].append(sample)\n",
        "        labels.append(min_index)\n",
        "      \n",
        "      #Calculating mean\n",
        "      old_centers = cluster_centers\n",
        "      \n",
        "      cluster_centers = []\n",
        "\n",
        "      for i in range(k):\n",
        "      \n",
        "        if(len(clusters[i]) ==  0): # This handles the situation where clusters have 0 members, or empty cluster situation\n",
        "          cluster_centers.append(old_centers[i])\n",
        "          continue\n",
        "        mean = np.squeeze(np.mean(clusters[i], axis=0))\n",
        "        cluster_centers.append(mean)\n",
        "\n",
        "      # DEBUG\n",
        "      self.cluster_centers = cluster_centers\n",
        "      self.old_centers = old_centers\n",
        "      cond = self.breaking_condition(cluster_centers, old_centers)\n",
        "      #print(cond)\n",
        "      if( cond <= self.tol):\n",
        "        break\n",
        "\n",
        "    return clusters, cluster_centers, labels, iteration\n",
        "\n",
        "\n",
        "      \n",
        "\n",
        "    \n",
        "    \n",
        "    \n",
        "\n",
        "\n",
        "\n",
        "  \n"
      ],
      "execution_count": null,
      "outputs": []
    },
    {
      "cell_type": "markdown",
      "metadata": {
        "id": "g7yMirx8qUCQ"
      },
      "source": [
        "# Reading the data which we pre-processed specially for the clustering task, and removing the id column as it is not required for clustering tasks"
      ]
    },
    {
      "cell_type": "code",
      "metadata": {
        "colab": {
          "base_uri": "https://localhost:8080/"
        },
        "id": "f5AX4lTGsKpC",
        "outputId": "09cd155e-a7a8-4448-994e-898c65164372"
      },
      "source": [
        "# Drive loading code, delete later\n",
        "from google.colab import drive\n",
        "drive.mount('/gdrive')\n",
        "%cd /gdrive"
      ],
      "execution_count": null,
      "outputs": [
        {
          "output_type": "stream",
          "name": "stdout",
          "text": [
            "Mounted at /gdrive\n",
            "/gdrive\n"
          ]
        }
      ]
    },
    {
      "cell_type": "code",
      "metadata": {
        "colab": {
          "base_uri": "https://localhost:8080/"
        },
        "id": "hS2Fb_hEsa4j",
        "outputId": "3bd66693-215a-4e86-8cfc-e6271b72ed4c"
      },
      "source": [
        "% cd MyDrive\n",
        "% ls"
      ],
      "execution_count": null,
      "outputs": [
        {
          "output_type": "stream",
          "name": "stdout",
          "text": [
            "/gdrive/MyDrive\n",
            "'Chess Game on Android - Chess.com'   processed_data.csv\n",
            "\u001b[0m\u001b[01;34m'Colab Notebooks'\u001b[0m/                   'Studity CN UNIT 2.pptx.gslides'\n",
            " home.pdf                             test.png\n",
            " \u001b[01;34mLEAD\u001b[0m/\n"
          ]
        }
      ]
    },
    {
      "cell_type": "code",
      "metadata": {
        "id": "uyNwUChwWvmM",
        "colab": {
          "base_uri": "https://localhost:8080/",
          "height": 334
        },
        "outputId": "378e54c3-f61a-495a-bbda-325997b15458"
      },
      "source": [
        "import pandas as pd\n",
        "import csv\n",
        "df = pd.read_csv('processed_data.csv', index_col=0)\n",
        "\n",
        "\n",
        "# Step 1: Extract numerical features\n",
        "data = df.select_dtypes(include=[np.number])\n",
        "# removing ordinal feature 'ID'\n",
        "data.drop('ID', axis=1, inplace=True)\n",
        "\n",
        "data.head()"
      ],
      "execution_count": null,
      "outputs": [
        {
          "output_type": "stream",
          "name": "stderr",
          "text": [
            "/usr/local/lib/python3.7/dist-packages/pandas/core/frame.py:4174: SettingWithCopyWarning: \n",
            "A value is trying to be set on a copy of a slice from a DataFrame\n",
            "\n",
            "See the caveats in the documentation: https://pandas.pydata.org/pandas-docs/stable/user_guide/indexing.html#returning-a-view-versus-a-copy\n",
            "  errors=errors,\n"
          ]
        },
        {
          "output_type": "execute_result",
          "data": {
            "text/html": [
              "<div>\n",
              "<style scoped>\n",
              "    .dataframe tbody tr th:only-of-type {\n",
              "        vertical-align: middle;\n",
              "    }\n",
              "\n",
              "    .dataframe tbody tr th {\n",
              "        vertical-align: top;\n",
              "    }\n",
              "\n",
              "    .dataframe thead th {\n",
              "        text-align: right;\n",
              "    }\n",
              "</style>\n",
              "<table border=\"1\" class=\"dataframe\">\n",
              "  <thead>\n",
              "    <tr style=\"text-align: right;\">\n",
              "      <th></th>\n",
              "      <th>Age</th>\n",
              "      <th>Overall</th>\n",
              "      <th>Potential</th>\n",
              "      <th>Special</th>\n",
              "      <th>International Reputation</th>\n",
              "      <th>Weak Foot</th>\n",
              "      <th>Skill Moves</th>\n",
              "      <th>Jersey Number</th>\n",
              "      <th>Crossing</th>\n",
              "      <th>Finishing</th>\n",
              "      <th>HeadingAccuracy</th>\n",
              "      <th>ShortPassing</th>\n",
              "      <th>Volleys</th>\n",
              "      <th>Dribbling</th>\n",
              "      <th>Curve</th>\n",
              "      <th>FKAccuracy</th>\n",
              "      <th>LongPassing</th>\n",
              "      <th>BallControl</th>\n",
              "      <th>Acceleration</th>\n",
              "      <th>SprintSpeed</th>\n",
              "      <th>Agility</th>\n",
              "      <th>Reactions</th>\n",
              "      <th>Balance</th>\n",
              "      <th>ShotPower</th>\n",
              "      <th>Jumping</th>\n",
              "      <th>Stamina</th>\n",
              "      <th>Strength</th>\n",
              "      <th>LongShots</th>\n",
              "      <th>Aggression</th>\n",
              "      <th>Interceptions</th>\n",
              "      <th>Positioning</th>\n",
              "      <th>Vision</th>\n",
              "      <th>Penalties</th>\n",
              "      <th>Composure</th>\n",
              "      <th>Marking</th>\n",
              "      <th>StandingTackle</th>\n",
              "      <th>SlidingTackle</th>\n",
              "      <th>GKDiving</th>\n",
              "      <th>GKHandling</th>\n",
              "      <th>GKKicking</th>\n",
              "      <th>GKPositioning</th>\n",
              "      <th>GKReflexes</th>\n",
              "      <th>processed_value</th>\n",
              "      <th>processed_release_clause</th>\n",
              "      <th>processed_wage</th>\n",
              "      <th>processed_joining</th>\n",
              "      <th>processed_contract_valid</th>\n",
              "      <th>processed_height</th>\n",
              "      <th>processed_weight</th>\n",
              "      <th>processed_LS</th>\n",
              "      <th>processed_ST</th>\n",
              "      <th>processed_RS</th>\n",
              "      <th>processed_LW</th>\n",
              "      <th>processed_LF</th>\n",
              "      <th>processed_CF</th>\n",
              "      <th>processed_RF</th>\n",
              "      <th>processed_RW</th>\n",
              "      <th>processed_LAM</th>\n",
              "      <th>processed_CAM</th>\n",
              "      <th>processed_RAM</th>\n",
              "      <th>processed_LM</th>\n",
              "      <th>processed_LCM</th>\n",
              "      <th>processed_CM</th>\n",
              "      <th>processed_RCM</th>\n",
              "      <th>processed_RM</th>\n",
              "      <th>processed_LWB</th>\n",
              "      <th>processed_LDM</th>\n",
              "      <th>processed_CDM</th>\n",
              "      <th>processed_RDM</th>\n",
              "      <th>processed_RWB</th>\n",
              "      <th>processed_LB</th>\n",
              "      <th>processed_LCB</th>\n",
              "      <th>processed_CB</th>\n",
              "      <th>processed_RCB</th>\n",
              "      <th>processed_RB</th>\n",
              "    </tr>\n",
              "  </thead>\n",
              "  <tbody>\n",
              "    <tr>\n",
              "      <th>0</th>\n",
              "      <td>31</td>\n",
              "      <td>94</td>\n",
              "      <td>94</td>\n",
              "      <td>2202</td>\n",
              "      <td>5.0</td>\n",
              "      <td>4.0</td>\n",
              "      <td>4.0</td>\n",
              "      <td>10.0</td>\n",
              "      <td>84.0</td>\n",
              "      <td>95.0</td>\n",
              "      <td>70.0</td>\n",
              "      <td>90.0</td>\n",
              "      <td>86.0</td>\n",
              "      <td>97.0</td>\n",
              "      <td>93.0</td>\n",
              "      <td>94.0</td>\n",
              "      <td>87.0</td>\n",
              "      <td>96.0</td>\n",
              "      <td>91.0</td>\n",
              "      <td>86.0</td>\n",
              "      <td>91.0</td>\n",
              "      <td>95.0</td>\n",
              "      <td>95.0</td>\n",
              "      <td>85.0</td>\n",
              "      <td>68.0</td>\n",
              "      <td>72.0</td>\n",
              "      <td>59.0</td>\n",
              "      <td>94.0</td>\n",
              "      <td>48.0</td>\n",
              "      <td>22.0</td>\n",
              "      <td>94.0</td>\n",
              "      <td>94.0</td>\n",
              "      <td>75.0</td>\n",
              "      <td>96.0</td>\n",
              "      <td>33.0</td>\n",
              "      <td>28.0</td>\n",
              "      <td>26.0</td>\n",
              "      <td>6.0</td>\n",
              "      <td>11.0</td>\n",
              "      <td>15.0</td>\n",
              "      <td>14.0</td>\n",
              "      <td>8.0</td>\n",
              "      <td>110500.0</td>\n",
              "      <td>226500.0</td>\n",
              "      <td>565.0</td>\n",
              "      <td>2004.0</td>\n",
              "      <td>2021.0</td>\n",
              "      <td>170.18</td>\n",
              "      <td>159.0</td>\n",
              "      <td>88.00000</td>\n",
              "      <td>88.00000</td>\n",
              "      <td>88.00000</td>\n",
              "      <td>92.00000</td>\n",
              "      <td>93.00000</td>\n",
              "      <td>93.00000</td>\n",
              "      <td>93.00000</td>\n",
              "      <td>92.00000</td>\n",
              "      <td>93.000000</td>\n",
              "      <td>93.000000</td>\n",
              "      <td>93.000000</td>\n",
              "      <td>91.00000</td>\n",
              "      <td>84.000000</td>\n",
              "      <td>84.000000</td>\n",
              "      <td>84.000000</td>\n",
              "      <td>91.00000</td>\n",
              "      <td>64.000000</td>\n",
              "      <td>61.000000</td>\n",
              "      <td>61.000000</td>\n",
              "      <td>61.000000</td>\n",
              "      <td>64.000000</td>\n",
              "      <td>59.000000</td>\n",
              "      <td>47.000000</td>\n",
              "      <td>47.000000</td>\n",
              "      <td>47.000000</td>\n",
              "      <td>59.000000</td>\n",
              "    </tr>\n",
              "    <tr>\n",
              "      <th>1</th>\n",
              "      <td>33</td>\n",
              "      <td>94</td>\n",
              "      <td>94</td>\n",
              "      <td>2228</td>\n",
              "      <td>5.0</td>\n",
              "      <td>4.0</td>\n",
              "      <td>5.0</td>\n",
              "      <td>7.0</td>\n",
              "      <td>84.0</td>\n",
              "      <td>94.0</td>\n",
              "      <td>89.0</td>\n",
              "      <td>81.0</td>\n",
              "      <td>87.0</td>\n",
              "      <td>88.0</td>\n",
              "      <td>81.0</td>\n",
              "      <td>76.0</td>\n",
              "      <td>77.0</td>\n",
              "      <td>94.0</td>\n",
              "      <td>89.0</td>\n",
              "      <td>91.0</td>\n",
              "      <td>87.0</td>\n",
              "      <td>96.0</td>\n",
              "      <td>70.0</td>\n",
              "      <td>95.0</td>\n",
              "      <td>95.0</td>\n",
              "      <td>88.0</td>\n",
              "      <td>79.0</td>\n",
              "      <td>93.0</td>\n",
              "      <td>63.0</td>\n",
              "      <td>29.0</td>\n",
              "      <td>95.0</td>\n",
              "      <td>82.0</td>\n",
              "      <td>85.0</td>\n",
              "      <td>95.0</td>\n",
              "      <td>28.0</td>\n",
              "      <td>31.0</td>\n",
              "      <td>23.0</td>\n",
              "      <td>7.0</td>\n",
              "      <td>11.0</td>\n",
              "      <td>15.0</td>\n",
              "      <td>14.0</td>\n",
              "      <td>11.0</td>\n",
              "      <td>77000.0</td>\n",
              "      <td>127100.0</td>\n",
              "      <td>405.0</td>\n",
              "      <td>2018.0</td>\n",
              "      <td>2022.0</td>\n",
              "      <td>187.96</td>\n",
              "      <td>183.0</td>\n",
              "      <td>91.00000</td>\n",
              "      <td>91.00000</td>\n",
              "      <td>91.00000</td>\n",
              "      <td>89.00000</td>\n",
              "      <td>90.00000</td>\n",
              "      <td>90.00000</td>\n",
              "      <td>90.00000</td>\n",
              "      <td>89.00000</td>\n",
              "      <td>88.000000</td>\n",
              "      <td>88.000000</td>\n",
              "      <td>88.000000</td>\n",
              "      <td>88.00000</td>\n",
              "      <td>81.000000</td>\n",
              "      <td>81.000000</td>\n",
              "      <td>81.000000</td>\n",
              "      <td>88.00000</td>\n",
              "      <td>65.000000</td>\n",
              "      <td>61.000000</td>\n",
              "      <td>61.000000</td>\n",
              "      <td>61.000000</td>\n",
              "      <td>65.000000</td>\n",
              "      <td>61.000000</td>\n",
              "      <td>53.000000</td>\n",
              "      <td>53.000000</td>\n",
              "      <td>53.000000</td>\n",
              "      <td>61.000000</td>\n",
              "    </tr>\n",
              "    <tr>\n",
              "      <th>2</th>\n",
              "      <td>26</td>\n",
              "      <td>92</td>\n",
              "      <td>93</td>\n",
              "      <td>2143</td>\n",
              "      <td>5.0</td>\n",
              "      <td>5.0</td>\n",
              "      <td>5.0</td>\n",
              "      <td>10.0</td>\n",
              "      <td>79.0</td>\n",
              "      <td>87.0</td>\n",
              "      <td>62.0</td>\n",
              "      <td>84.0</td>\n",
              "      <td>84.0</td>\n",
              "      <td>96.0</td>\n",
              "      <td>88.0</td>\n",
              "      <td>87.0</td>\n",
              "      <td>78.0</td>\n",
              "      <td>95.0</td>\n",
              "      <td>94.0</td>\n",
              "      <td>90.0</td>\n",
              "      <td>96.0</td>\n",
              "      <td>94.0</td>\n",
              "      <td>84.0</td>\n",
              "      <td>80.0</td>\n",
              "      <td>61.0</td>\n",
              "      <td>81.0</td>\n",
              "      <td>49.0</td>\n",
              "      <td>82.0</td>\n",
              "      <td>56.0</td>\n",
              "      <td>36.0</td>\n",
              "      <td>89.0</td>\n",
              "      <td>87.0</td>\n",
              "      <td>81.0</td>\n",
              "      <td>94.0</td>\n",
              "      <td>27.0</td>\n",
              "      <td>24.0</td>\n",
              "      <td>33.0</td>\n",
              "      <td>9.0</td>\n",
              "      <td>9.0</td>\n",
              "      <td>15.0</td>\n",
              "      <td>15.0</td>\n",
              "      <td>11.0</td>\n",
              "      <td>118500.0</td>\n",
              "      <td>228100.0</td>\n",
              "      <td>290.0</td>\n",
              "      <td>2017.0</td>\n",
              "      <td>2022.0</td>\n",
              "      <td>175.26</td>\n",
              "      <td>150.0</td>\n",
              "      <td>84.00000</td>\n",
              "      <td>84.00000</td>\n",
              "      <td>84.00000</td>\n",
              "      <td>89.00000</td>\n",
              "      <td>89.00000</td>\n",
              "      <td>89.00000</td>\n",
              "      <td>89.00000</td>\n",
              "      <td>89.00000</td>\n",
              "      <td>89.000000</td>\n",
              "      <td>89.000000</td>\n",
              "      <td>89.000000</td>\n",
              "      <td>88.00000</td>\n",
              "      <td>81.000000</td>\n",
              "      <td>81.000000</td>\n",
              "      <td>81.000000</td>\n",
              "      <td>88.00000</td>\n",
              "      <td>65.000000</td>\n",
              "      <td>60.000000</td>\n",
              "      <td>60.000000</td>\n",
              "      <td>60.000000</td>\n",
              "      <td>65.000000</td>\n",
              "      <td>60.000000</td>\n",
              "      <td>47.000000</td>\n",
              "      <td>47.000000</td>\n",
              "      <td>47.000000</td>\n",
              "      <td>60.000000</td>\n",
              "    </tr>\n",
              "    <tr>\n",
              "      <th>3</th>\n",
              "      <td>27</td>\n",
              "      <td>91</td>\n",
              "      <td>93</td>\n",
              "      <td>1471</td>\n",
              "      <td>4.0</td>\n",
              "      <td>3.0</td>\n",
              "      <td>1.0</td>\n",
              "      <td>1.0</td>\n",
              "      <td>17.0</td>\n",
              "      <td>13.0</td>\n",
              "      <td>21.0</td>\n",
              "      <td>50.0</td>\n",
              "      <td>13.0</td>\n",
              "      <td>18.0</td>\n",
              "      <td>21.0</td>\n",
              "      <td>19.0</td>\n",
              "      <td>51.0</td>\n",
              "      <td>42.0</td>\n",
              "      <td>57.0</td>\n",
              "      <td>58.0</td>\n",
              "      <td>60.0</td>\n",
              "      <td>90.0</td>\n",
              "      <td>43.0</td>\n",
              "      <td>31.0</td>\n",
              "      <td>67.0</td>\n",
              "      <td>43.0</td>\n",
              "      <td>64.0</td>\n",
              "      <td>12.0</td>\n",
              "      <td>38.0</td>\n",
              "      <td>30.0</td>\n",
              "      <td>12.0</td>\n",
              "      <td>68.0</td>\n",
              "      <td>40.0</td>\n",
              "      <td>68.0</td>\n",
              "      <td>15.0</td>\n",
              "      <td>21.0</td>\n",
              "      <td>13.0</td>\n",
              "      <td>90.0</td>\n",
              "      <td>85.0</td>\n",
              "      <td>87.0</td>\n",
              "      <td>88.0</td>\n",
              "      <td>94.0</td>\n",
              "      <td>72000.0</td>\n",
              "      <td>138600.0</td>\n",
              "      <td>260.0</td>\n",
              "      <td>2011.0</td>\n",
              "      <td>2020.0</td>\n",
              "      <td>193.04</td>\n",
              "      <td>168.0</td>\n",
              "      <td>57.81547</td>\n",
              "      <td>57.81547</td>\n",
              "      <td>57.81547</td>\n",
              "      <td>59.03765</td>\n",
              "      <td>58.71939</td>\n",
              "      <td>58.71939</td>\n",
              "      <td>58.71939</td>\n",
              "      <td>59.03765</td>\n",
              "      <td>58.983129</td>\n",
              "      <td>58.983129</td>\n",
              "      <td>58.983129</td>\n",
              "      <td>59.73471</td>\n",
              "      <td>58.220878</td>\n",
              "      <td>58.220878</td>\n",
              "      <td>58.220878</td>\n",
              "      <td>59.73471</td>\n",
              "      <td>57.513274</td>\n",
              "      <td>56.825146</td>\n",
              "      <td>56.825146</td>\n",
              "      <td>56.825146</td>\n",
              "      <td>57.513274</td>\n",
              "      <td>56.806786</td>\n",
              "      <td>55.614626</td>\n",
              "      <td>55.614626</td>\n",
              "      <td>55.614626</td>\n",
              "      <td>56.806786</td>\n",
              "    </tr>\n",
              "    <tr>\n",
              "      <th>4</th>\n",
              "      <td>27</td>\n",
              "      <td>91</td>\n",
              "      <td>92</td>\n",
              "      <td>2281</td>\n",
              "      <td>4.0</td>\n",
              "      <td>5.0</td>\n",
              "      <td>4.0</td>\n",
              "      <td>7.0</td>\n",
              "      <td>93.0</td>\n",
              "      <td>82.0</td>\n",
              "      <td>55.0</td>\n",
              "      <td>92.0</td>\n",
              "      <td>82.0</td>\n",
              "      <td>86.0</td>\n",
              "      <td>85.0</td>\n",
              "      <td>83.0</td>\n",
              "      <td>91.0</td>\n",
              "      <td>91.0</td>\n",
              "      <td>78.0</td>\n",
              "      <td>76.0</td>\n",
              "      <td>79.0</td>\n",
              "      <td>91.0</td>\n",
              "      <td>77.0</td>\n",
              "      <td>91.0</td>\n",
              "      <td>63.0</td>\n",
              "      <td>90.0</td>\n",
              "      <td>75.0</td>\n",
              "      <td>91.0</td>\n",
              "      <td>76.0</td>\n",
              "      <td>61.0</td>\n",
              "      <td>87.0</td>\n",
              "      <td>94.0</td>\n",
              "      <td>79.0</td>\n",
              "      <td>88.0</td>\n",
              "      <td>68.0</td>\n",
              "      <td>58.0</td>\n",
              "      <td>51.0</td>\n",
              "      <td>15.0</td>\n",
              "      <td>13.0</td>\n",
              "      <td>5.0</td>\n",
              "      <td>10.0</td>\n",
              "      <td>13.0</td>\n",
              "      <td>102000.0</td>\n",
              "      <td>196400.0</td>\n",
              "      <td>355.0</td>\n",
              "      <td>2015.0</td>\n",
              "      <td>2023.0</td>\n",
              "      <td>180.34</td>\n",
              "      <td>154.0</td>\n",
              "      <td>82.00000</td>\n",
              "      <td>82.00000</td>\n",
              "      <td>82.00000</td>\n",
              "      <td>87.00000</td>\n",
              "      <td>87.00000</td>\n",
              "      <td>87.00000</td>\n",
              "      <td>87.00000</td>\n",
              "      <td>87.00000</td>\n",
              "      <td>88.000000</td>\n",
              "      <td>88.000000</td>\n",
              "      <td>88.000000</td>\n",
              "      <td>88.00000</td>\n",
              "      <td>87.000000</td>\n",
              "      <td>87.000000</td>\n",
              "      <td>87.000000</td>\n",
              "      <td>88.00000</td>\n",
              "      <td>77.000000</td>\n",
              "      <td>77.000000</td>\n",
              "      <td>77.000000</td>\n",
              "      <td>77.000000</td>\n",
              "      <td>77.000000</td>\n",
              "      <td>73.000000</td>\n",
              "      <td>66.000000</td>\n",
              "      <td>66.000000</td>\n",
              "      <td>66.000000</td>\n",
              "      <td>73.000000</td>\n",
              "    </tr>\n",
              "  </tbody>\n",
              "</table>\n",
              "</div>"
            ],
            "text/plain": [
              "   Age  Overall  Potential  ...  processed_CB  processed_RCB  processed_RB\n",
              "0   31       94         94  ...     47.000000      47.000000     59.000000\n",
              "1   33       94         94  ...     53.000000      53.000000     61.000000\n",
              "2   26       92         93  ...     47.000000      47.000000     60.000000\n",
              "3   27       91         93  ...     55.614626      55.614626     56.806786\n",
              "4   27       91         92  ...     66.000000      66.000000     73.000000\n",
              "\n",
              "[5 rows x 75 columns]"
            ]
          },
          "metadata": {},
          "execution_count": 4
        }
      ]
    },
    {
      "cell_type": "code",
      "metadata": {
        "id": "_Rnl3AvTWvoo"
      },
      "source": [
        ""
      ],
      "execution_count": null,
      "outputs": []
    },
    {
      "cell_type": "markdown",
      "metadata": {
        "id": "1ERa3P_0zdvP"
      },
      "source": [
        "# Applying K-means on k = 3, 5, 7"
      ]
    },
    {
      "cell_type": "markdown",
      "metadata": {
        "id": "YXhmGptOzjvH"
      },
      "source": [
        "## K = 3"
      ]
    },
    {
      "cell_type": "code",
      "metadata": {
        "id": "rQn1_INBWvrG",
        "colab": {
          "base_uri": "https://localhost:8080/"
        },
        "outputId": "ac3ca549-3369-4014-d326-68d82b7432f8"
      },
      "source": [
        "from sklearn.metrics import silhouette_score\n",
        "\n",
        "k = 3\n",
        "data_numpy = data.to_numpy()\n",
        "kmeans = k_means(k)\n",
        "clusters, cluster_centers, labels,iteration = kmeans.fit(data_numpy)\n",
        "\n",
        "print(\"The silhoutte score for k = \", k, \" is \", silhouette_score(data_numpy, np.array(labels)))"
      ],
      "execution_count": null,
      "outputs": [
        {
          "output_type": "stream",
          "name": "stdout",
          "text": [
            "The silhoutte score for k =  3  is  0.8163450839719909\n"
          ]
        }
      ]
    },
    {
      "cell_type": "markdown",
      "metadata": {
        "id": "jQPDro9x0Mec"
      },
      "source": [
        "## K = 5"
      ]
    },
    {
      "cell_type": "code",
      "metadata": {
        "id": "lvY9khVxWvuR",
        "colab": {
          "base_uri": "https://localhost:8080/"
        },
        "outputId": "96ff7354-30ed-415c-cd8f-03f1b1b3f60f"
      },
      "source": [
        "k = 5\n",
        "data_numpy = data.to_numpy()\n",
        "kmeans = k_means(k)\n",
        "clusters, cluster_centers, labels,iteration = kmeans.fit(data_numpy)\n",
        "\n",
        "print(\"The silhoutte score for k = \", k, \" is \", silhouette_score(data_numpy, np.array(labels)))"
      ],
      "execution_count": null,
      "outputs": [
        {
          "output_type": "stream",
          "name": "stdout",
          "text": [
            "The silhoutte score for k =  5  is  0.7932762467727402\n"
          ]
        }
      ]
    },
    {
      "cell_type": "markdown",
      "metadata": {
        "id": "eVxeTYnw0RFV"
      },
      "source": [
        "## K = 7"
      ]
    },
    {
      "cell_type": "code",
      "metadata": {
        "colab": {
          "base_uri": "https://localhost:8080/"
        },
        "id": "dLWIQlPR0QOE",
        "outputId": "e2a65d93-6060-42b5-8ff8-1f81e749004c"
      },
      "source": [
        "k = 7\n",
        "data_numpy = data.to_numpy()\n",
        "kmeans = k_means(k)\n",
        "clusters, cluster_centers, labels,iteration = kmeans.fit(data_numpy)\n",
        "\n",
        "print(\"The silhoutte score for k = \", k, \" is \", silhouette_score(data_numpy, np.array(labels)))"
      ],
      "execution_count": null,
      "outputs": [
        {
          "output_type": "stream",
          "name": "stdout",
          "text": [
            "The silhoutte score for k =  7  is  0.8163450839719909\n"
          ]
        }
      ]
    },
    {
      "cell_type": "markdown",
      "metadata": {
        "id": "EOzDk3JnWxk1"
      },
      "source": [
        "# Elbow method, and Silhoutte Score.\n",
        "\n"
      ]
    },
    {
      "cell_type": "code",
      "metadata": {
        "id": "7DO0PXVpWvxr",
        "colab": {
          "base_uri": "https://localhost:8080/"
        },
        "outputId": "56e06b9e-1c31-4a49-fed2-c7a91659eb88"
      },
      "source": [
        "max_k = 30\n",
        "experiment_frequency = 5 # Every experiment will be performed 10 times since random initialization is involved.\n",
        "\n",
        "#silhoutte_scores = []\n",
        "for i in range(17, max_k):\n",
        "  kmeans = k_means(i)\n",
        "  best_score = -1\n",
        "  for j in range(experiment_frequency):\n",
        "    clusters, cluster_centers, labels,iteration = kmeans.fit(data_numpy)\n",
        "    score = silhouette_score(data_numpy, np.array(labels))\n",
        "    best_score = max(best_score, score)\n",
        "  silhoutte_scores.append(best_score)\n",
        "  print(\"For k = \", i, \" clustering is done...\")\n",
        "\n"
      ],
      "execution_count": null,
      "outputs": [
        {
          "output_type": "stream",
          "name": "stdout",
          "text": [
            "For k =  17  clustering is done...\n",
            "For k =  18  clustering is done...\n",
            "For k =  19  clustering is done...\n",
            "For k =  20  clustering is done...\n",
            "For k =  21  clustering is done...\n"
          ]
        }
      ]
    },
    {
      "cell_type": "code",
      "metadata": {
        "colab": {
          "base_uri": "https://localhost:8080/",
          "height": 295
        },
        "id": "4qcV1_mKGQKv",
        "outputId": "04e2edd3-7d0c-4174-bc54-c643d6febd75"
      },
      "source": [
        "K = range(2,18)\n",
        "plt.plot(K, silhoutte_scores, 'bx-')\n",
        "plt.xlim\n",
        "plt.xlabel('k')\n",
        "plt.ylabel('Silhoutte Scores')\n",
        "plt.title('Elbow Method For Optimal k')\n",
        "plt.show()"
      ],
      "execution_count": null,
      "outputs": [
        {
          "output_type": "display_data",
          "data": {
            "image/png": "[encoded data removed]",
            "text/plain": [
              "<Figure size 432x288 with 1 Axes>"
            ]
          },
          "metadata": {
            "needs_background": "light"
          }
        }
      ]
    },
    {
      "cell_type": "code",
      "metadata": {
        "id": "KBaRCkUq8JOS",
        "colab": {
          "base_uri": "https://localhost:8080/"
        },
        "outputId": "e23c9470-68d2-418f-c42d-b5d8cea8cc74"
      },
      "source": [
        "len(silhoutte_scores)"
      ],
      "execution_count": null,
      "outputs": [
        {
          "output_type": "execute_result",
          "data": {
            "text/plain": [
              "16"
            ]
          },
          "metadata": {},
          "execution_count": 89
        }
      ]
    },
    {
      "cell_type": "code",
      "metadata": {
        "id": "9WZvuOsl8K-8",
        "colab": {
          "base_uri": "https://localhost:8080/"
        },
        "outputId": "8abea1af-1153-4246-9df7-3662c1d82f63"
      },
      "source": [
        "silhoutte_scores"
      ],
      "execution_count": null,
      "outputs": [
        {
          "output_type": "execute_result",
          "data": {
            "text/plain": [
              "[0.8973385448209347,\n",
              " 0.8214813977085744,\n",
              " 0.8214813977085744,\n",
              " 0.8163450839719909,\n",
              " 0.8163450839719909,\n",
              " 0.8163450839719909,\n",
              " 0.8163450839719909,\n",
              " 0.8163450839719909,\n",
              " 0.8163450839719909,\n",
              " 0.8214813977085744,\n",
              " 0.8218728433221962,\n",
              " 0.8163450839719909,\n",
              " 0.7932762467727402,\n",
              " 0.8163450839719909,\n",
              " 0.8214813977085744,\n",
              " 0.8163450839719909]"
            ]
          },
          "metadata": {},
          "execution_count": 95
        }
      ]
    },
    {
      "cell_type": "code",
      "metadata": {
        "id": "49N-T_s1D5KF"
      },
      "source": [
        ""
      ],
      "execution_count": null,
      "outputs": []
    }
  ]
}