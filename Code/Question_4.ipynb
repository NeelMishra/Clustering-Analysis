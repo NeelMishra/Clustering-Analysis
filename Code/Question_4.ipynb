{
  "nbformat": 4,
  "nbformat_minor": 0,
  "metadata": {
    "colab": {
      "name": "DBSCAN.ipynb",
      "provenance": [],
      "collapsed_sections": []
    },
    "kernelspec": {
      "name": "python3",
      "display_name": "Python 3"
    },
    "language_info": {
      "name": "python"
    }
  },
  "cells": [
    {
      "cell_type": "code",
      "metadata": {
        "colab": {
          "base_uri": "https://localhost:8080/"
        },
        "id": "jMnWc4_nK9Kn",
        "outputId": "823e5103-dd76-41ba-a895-799abe45a044"
      },
      "source": [
        "from sklearn.cluster import DBSCAN\n",
        "import numpy as np\n",
        "eps = 0.16\n",
        "min_samples = 4\n",
        "data = np.array([\n",
        "                 # WRITE DATA POINTS HERE\n",
        "                 [0.3,0.5],\n",
        "                 [0.2,0.4],\n",
        "                 [0.3,0.3],\n",
        "                 [0.2,0.2],\n",
        "                 [0.1,0.4],\n",
        "                 [0.3,0.4]\n",
        "])\n",
        "\n",
        "clustering = DBSCAN(eps = eps, min_samples=min_samples, metric='euclidean').fit(data)\n",
        "print(clustering.labels_)"
      ],
      "execution_count": null,
      "outputs": [
        {
          "output_type": "stream",
          "name": "stdout",
          "text": [
            "[0 0 0 0 0 0]\n"
          ]
        }
      ]
    },
    {
      "cell_type": "code",
      "metadata": {
        "colab": {
          "base_uri": "https://localhost:8080/",
          "height": 299
        },
        "id": "d9a2grPRLpik",
        "outputId": "05a366a6-0883-45aa-ef96-c429f3301fc7"
      },
      "source": [
        "# Plot result\n",
        "import matplotlib.pyplot as plt\n",
        "labels = clustering.labels_\n",
        "# Black removed and is used for noise instead.\n",
        "unique_labels = set(labels)\n",
        "\n",
        "core_samples_mask = np.zeros_like(labels, dtype=bool)\n",
        "core_samples_mask[clustering.core_sample_indices_] = True\n",
        "colors = [plt.cm.Spectral(each)\n",
        "          for each in np.linspace(0, 1, len(unique_labels))]\n",
        "for k, col in zip(unique_labels, colors):\n",
        "    if k == -1:\n",
        "        # Black used for noise.\n",
        "        col = [0, 0, 0, 1]\n",
        "\n",
        "    class_member_mask = (labels == k)\n",
        "\n",
        "    xy = data[class_member_mask & core_samples_mask]\n",
        "    plt.plot(xy[:, 0], xy[:, 1], 'o', markerfacecolor=tuple(col),\n",
        "             markeredgecolor='k', markersize=14)\n",
        "\n",
        "    xy = data[class_member_mask & ~core_samples_mask]\n",
        "    plt.plot(xy[:, 0], xy[:, 1], 'o', markerfacecolor=tuple(col),\n",
        "             markeredgecolor='k', markersize=6)\n",
        "n_clusters_ = len(set(labels)) - (1 if -1 in labels else 0)\n",
        "plt.title('Estimated number of clusters: %d' % n_clusters_)\n",
        "#plt.show()"
      ],
      "execution_count": null,
      "outputs": [
        {
          "output_type": "execute_result",
          "data": {
            "text/plain": [
              "Text(0.5, 1.0, 'Estimated number of clusters: 1')"
            ]
          },
          "metadata": {},
          "execution_count": 8
        },
        {
          "output_type": "display_data",
          "data": {
            "image/png": "[encoded data removed]",
            "text/plain": [
              "<Figure size 432x288 with 1 Axes>"
            ]
          },
          "metadata": {
            "needs_background": "light"
          }
        }
      ]
    },
    {
      "cell_type": "code",
      "metadata": {
        "colab": {
          "base_uri": "https://localhost:8080/",
          "height": 283
        },
        "id": "KnoItEnJLCG3",
        "outputId": "0a8c7e8a-64e9-4c58-97ed-e6e92ff07c70"
      },
      "source": [
        "import matplotlib.pyplot as plt\n",
        "plt.scatter(data[:,0], data[:,1])"
      ],
      "execution_count": null,
      "outputs": [
        {
          "output_type": "execute_result",
          "data": {
            "text/plain": [
              "<matplotlib.collections.PathCollection at 0x7f78289e34d0>"
            ]
          },
          "metadata": {},
          "execution_count": 10
        },
        {
          "output_type": "display_data",
          "data": {
            "image/png": "[encoded data removed]",
            "text/plain": [
              "<Figure size 432x288 with 1 Axes>"
            ]
          },
          "metadata": {
            "needs_background": "light"
          }
        }
      ]
    },
    {
      "cell_type": "code",
      "metadata": {
        "colab": {
          "base_uri": "https://localhost:8080/"
        },
        "id": "ppfiXJjyMwIV",
        "outputId": "76beb278-93c8-4ad3-93af-3f32e75125af"
      },
      "source": [
        "clustering.core_sample_indices_"
      ],
      "execution_count": null,
      "outputs": [
        {
          "output_type": "execute_result",
          "data": {
            "text/plain": [
              "array([1, 2, 5])"
            ]
          },
          "metadata": {},
          "execution_count": 9
        }
      ]
    },
    {
      "cell_type": "code",
      "metadata": {
        "colab": {
          "base_uri": "https://localhost:8080/"
        },
        "id": "unGJaxcGM8h2",
        "outputId": "d3c6340f-eaf9-488c-cb0f-3700c8f71d2f"
      },
      "source": [
        "data[0]"
      ],
      "execution_count": null,
      "outputs": [
        {
          "output_type": "execute_result",
          "data": {
            "text/plain": [
              "array([1., 2.])"
            ]
          },
          "metadata": {},
          "execution_count": 15
        }
      ]
    },
    {
      "cell_type": "code",
      "metadata": {
        "colab": {
          "base_uri": "https://localhost:8080/"
        },
        "id": "qHoc2gu8M-GW",
        "outputId": "653f6536-f38b-4cab-cda0-c0f0f02c81c6"
      },
      "source": [
        "data"
      ],
      "execution_count": null,
      "outputs": [
        {
          "output_type": "execute_result",
          "data": {
            "text/plain": [
              "array([[1. , 2. ],\n",
              "       [3. , 4. ],\n",
              "       [2.5, 4. ],\n",
              "       [1.5, 2.5],\n",
              "       [3. , 5. ],\n",
              "       [2.8, 4.5],\n",
              "       [2.5, 4.5],\n",
              "       [1.2, 2.5],\n",
              "       [1. , 3. ],\n",
              "       [1. , 5. ],\n",
              "       [1. , 2.4],\n",
              "       [5. , 6. ],\n",
              "       [4. , 3. ]])"
            ]
          },
          "metadata": {},
          "execution_count": 16
        }
      ]
    },
    {
      "cell_type": "code",
      "metadata": {
        "id": "fUYvbs23M-qE"
      },
      "source": [
        ""
      ],
      "execution_count": null,
      "outputs": []
    }
  ]
}