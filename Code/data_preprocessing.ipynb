{
 "cells": [
  {
   "cell_type": "code",
   "execution_count": 1,
   "source": [
    "# imports\r\n",
    "\r\n",
    "import matplotlib.pyplot as plt\r\n",
    "%matplotlib inline\r\n",
    "import seaborn as sns\r\n",
    "sns.set()\r\n",
    "import pandas as pd\r\n",
    "import numpy as np\r\n",
    "import re"
   ],
   "outputs": [],
   "metadata": {}
  },
  {
   "cell_type": "code",
   "execution_count": 2,
   "source": [
    "# reading the data in pandas dataframe\r\n",
    "football = pd.read_csv('./football_data.csv', index_col=0)"
   ],
   "outputs": [],
   "metadata": {}
  },
  {
   "cell_type": "code",
   "execution_count": 3,
   "source": [
    "football.info()"
   ],
   "outputs": [
    {
     "output_type": "stream",
     "name": "stdout",
     "text": [
      "<class 'pandas.core.frame.DataFrame'>\n",
      "Int64Index: 18207 entries, 0 to 18206\n",
      "Data columns (total 88 columns):\n",
      " #   Column                    Non-Null Count  Dtype  \n",
      "---  ------                    --------------  -----  \n",
      " 0   ID                        18207 non-null  int64  \n",
      " 1   Name                      18207 non-null  object \n",
      " 2   Age                       18207 non-null  int64  \n",
      " 3   Photo                     18207 non-null  object \n",
      " 4   Nationality               18207 non-null  object \n",
      " 5   Flag                      18207 non-null  object \n",
      " 6   Overall                   18207 non-null  int64  \n",
      " 7   Potential                 18207 non-null  int64  \n",
      " 8   Club                      17966 non-null  object \n",
      " 9   Club Logo                 18207 non-null  object \n",
      " 10  Value                     18207 non-null  object \n",
      " 11  Wage                      18207 non-null  object \n",
      " 12  Special                   18207 non-null  int64  \n",
      " 13  Preferred Foot            18159 non-null  object \n",
      " 14  International Reputation  18159 non-null  float64\n",
      " 15  Weak Foot                 18159 non-null  float64\n",
      " 16  Skill Moves               18159 non-null  float64\n",
      " 17  Work Rate                 18159 non-null  object \n",
      " 18  Body Type                 18159 non-null  object \n",
      " 19  Real Face                 18159 non-null  object \n",
      " 20  Position                  18147 non-null  object \n",
      " 21  Jersey Number             18147 non-null  float64\n",
      " 22  Joined                    16654 non-null  object \n",
      " 23  Loaned From               1264 non-null   object \n",
      " 24  Contract Valid Until      17918 non-null  object \n",
      " 25  Height                    18159 non-null  object \n",
      " 26  Weight                    18159 non-null  object \n",
      " 27  LS                        16122 non-null  object \n",
      " 28  ST                        16122 non-null  object \n",
      " 29  RS                        16122 non-null  object \n",
      " 30  LW                        16122 non-null  object \n",
      " 31  LF                        16122 non-null  object \n",
      " 32  CF                        16122 non-null  object \n",
      " 33  RF                        16122 non-null  object \n",
      " 34  RW                        16122 non-null  object \n",
      " 35  LAM                       16122 non-null  object \n",
      " 36  CAM                       16122 non-null  object \n",
      " 37  RAM                       16122 non-null  object \n",
      " 38  LM                        16122 non-null  object \n",
      " 39  LCM                       16122 non-null  object \n",
      " 40  CM                        16122 non-null  object \n",
      " 41  RCM                       16122 non-null  object \n",
      " 42  RM                        16122 non-null  object \n",
      " 43  LWB                       16122 non-null  object \n",
      " 44  LDM                       16122 non-null  object \n",
      " 45  CDM                       16122 non-null  object \n",
      " 46  RDM                       16122 non-null  object \n",
      " 47  RWB                       16122 non-null  object \n",
      " 48  LB                        16122 non-null  object \n",
      " 49  LCB                       16122 non-null  object \n",
      " 50  CB                        16122 non-null  object \n",
      " 51  RCB                       16122 non-null  object \n",
      " 52  RB                        16122 non-null  object \n",
      " 53  Crossing                  18159 non-null  float64\n",
      " 54  Finishing                 18159 non-null  float64\n",
      " 55  HeadingAccuracy           18159 non-null  float64\n",
      " 56  ShortPassing              18159 non-null  float64\n",
      " 57  Volleys                   18159 non-null  float64\n",
      " 58  Dribbling                 18159 non-null  float64\n",
      " 59  Curve                     18159 non-null  float64\n",
      " 60  FKAccuracy                18159 non-null  float64\n",
      " 61  LongPassing               18159 non-null  float64\n",
      " 62  BallControl               18159 non-null  float64\n",
      " 63  Acceleration              18159 non-null  float64\n",
      " 64  SprintSpeed               18159 non-null  float64\n",
      " 65  Agility                   18159 non-null  float64\n",
      " 66  Reactions                 18159 non-null  float64\n",
      " 67  Balance                   18159 non-null  float64\n",
      " 68  ShotPower                 18159 non-null  float64\n",
      " 69  Jumping                   18159 non-null  float64\n",
      " 70  Stamina                   18159 non-null  float64\n",
      " 71  Strength                  18159 non-null  float64\n",
      " 72  LongShots                 18159 non-null  float64\n",
      " 73  Aggression                18159 non-null  float64\n",
      " 74  Interceptions             18159 non-null  float64\n",
      " 75  Positioning               18159 non-null  float64\n",
      " 76  Vision                    18159 non-null  float64\n",
      " 77  Penalties                 18159 non-null  float64\n",
      " 78  Composure                 18159 non-null  float64\n",
      " 79  Marking                   18159 non-null  float64\n",
      " 80  StandingTackle            18159 non-null  float64\n",
      " 81  SlidingTackle             18159 non-null  float64\n",
      " 82  GKDiving                  18159 non-null  float64\n",
      " 83  GKHandling                18159 non-null  float64\n",
      " 84  GKKicking                 18159 non-null  float64\n",
      " 85  GKPositioning             18159 non-null  float64\n",
      " 86  GKReflexes                18159 non-null  float64\n",
      " 87  Release Clause            16643 non-null  object \n",
      "dtypes: float64(38), int64(5), object(45)\n",
      "memory usage: 12.4+ MB\n"
     ]
    }
   ],
   "metadata": {}
  },
  {
   "cell_type": "markdown",
   "source": [
    "### Processing the features of interest."
   ],
   "metadata": {}
  },
  {
   "cell_type": "markdown",
   "source": [
    "#### Value. Convert to numerical by extracting number out of it. Normalize the number properly based on M/K."
   ],
   "metadata": {}
  },
  {
   "cell_type": "code",
   "execution_count": 4,
   "source": [
    "football['processed_value'] = pd.Series([float(str[1:-1]) if str[-1]=='K' else float(str[1:-1])*1000 if str[-1]=='M' else 0 for str in football['Value']])"
   ],
   "outputs": [],
   "metadata": {}
  },
  {
   "cell_type": "markdown",
   "source": [
    "#### Similarly, release clause"
   ],
   "metadata": {}
  },
  {
   "cell_type": "code",
   "execution_count": 5,
   "source": [
    "football['processed_release_clause'] = pd.Series([np.nan if isinstance(value, float) else float(value[1:-1]) if value[-1]=='K' else float(value[1:-1])*1000 if value[-1]=='M' else 0 for value in football['Release Clause']])"
   ],
   "outputs": [],
   "metadata": {}
  },
  {
   "cell_type": "markdown",
   "source": [
    "#### Wage. Convert to numerical by extracting number out of it. Normalize the number properly based on M/K."
   ],
   "metadata": {}
  },
  {
   "cell_type": "code",
   "execution_count": 6,
   "source": [
    "football['processed_wage'] = pd.Series([float(str[1:-1]) if len(str)>=3 else 0 for str in football['Wage']])"
   ],
   "outputs": [],
   "metadata": {}
  },
  {
   "cell_type": "markdown",
   "source": [
    "#### Joined. Convert data to only year format"
   ],
   "metadata": {}
  },
  {
   "cell_type": "code",
   "execution_count": 7,
   "source": [
    "football['processed_joining'] = pd.Series([float(date[-4:]) if isinstance(date, str) else np.nan for date in football['Joined']])"
   ],
   "outputs": [],
   "metadata": {}
  },
  {
   "cell_type": "markdown",
   "source": [
    "#### Contract Valid Until. Convert data to only year format"
   ],
   "metadata": {}
  },
  {
   "cell_type": "code",
   "execution_count": 8,
   "source": [
    "football['processed_contract_valid'] = pd.Series([float(date[-4:]) if isinstance(date, str) else np.nan for date in football['Contract Valid Until']])"
   ],
   "outputs": [],
   "metadata": {}
  },
  {
   "cell_type": "markdown",
   "source": [
    "#### Height. convert to cms from ft and inches."
   ],
   "metadata": {}
  },
  {
   "cell_type": "code",
   "execution_count": 9,
   "source": [
    "def process_height(value):\r\n",
    "    if isinstance(value, float):\r\n",
    "        return np.nan\r\n",
    "    ft = float(value.split('\\'')[0])\r\n",
    "    inch = float(value.split('\\'')[1])\r\n",
    "    inch += ft * 12\r\n",
    "    return inch * 2.54\r\n",
    "\r\n",
    "football['processed_height'] = football['Height'].apply(process_height)"
   ],
   "outputs": [],
   "metadata": {}
  },
  {
   "cell_type": "markdown",
   "source": [
    "#### Weight. convert to numeric value by removing 'lbs' unit"
   ],
   "metadata": {}
  },
  {
   "cell_type": "code",
   "execution_count": 11,
   "source": [
    "football['processed_weight'] = pd.Series([float(weight[:-3]) if isinstance(weight, str) else np.nan for weight in football['Weight']])"
   ],
   "outputs": [],
   "metadata": {}
  },
  {
   "cell_type": "markdown",
   "source": [
    "#### Convert sport specific features of type (90 + 2) to numeric features of type 90."
   ],
   "metadata": {}
  },
  {
   "cell_type": "code",
   "execution_count": 13,
   "source": [
    "def process_column(value):\r\n",
    "    if isinstance(value, float):\r\n",
    "        return np.nan\r\n",
    "    return float(value.split('+')[0])\r\n",
    "for column in football.columns[27:53]:\r\n",
    "    football['processed_%s'%column] = football[column].apply(process_column)"
   ],
   "outputs": [],
   "metadata": {}
  },
  {
   "cell_type": "code",
   "execution_count": 16,
   "source": [
    "# Step 1: Extract numerical features\r\n",
    "num_data = football.select_dtypes(include=[np.number])\r\n",
    "# replacing missing values with mean value of that column\r\n",
    "data = num_data.fillna(num_data.mean())"
   ],
   "outputs": [],
   "metadata": {}
  },
  {
   "cell_type": "code",
   "execution_count": 17,
   "source": [
    "data.info()"
   ],
   "outputs": [
    {
     "output_type": "stream",
     "name": "stdout",
     "text": [
      "<class 'pandas.core.frame.DataFrame'>\n",
      "Int64Index: 18207 entries, 0 to 18206\n",
      "Data columns (total 76 columns):\n",
      " #   Column                    Non-Null Count  Dtype  \n",
      "---  ------                    --------------  -----  \n",
      " 0   ID                        18207 non-null  int64  \n",
      " 1   Age                       18207 non-null  int64  \n",
      " 2   Overall                   18207 non-null  int64  \n",
      " 3   Potential                 18207 non-null  int64  \n",
      " 4   Special                   18207 non-null  int64  \n",
      " 5   International Reputation  18207 non-null  float64\n",
      " 6   Weak Foot                 18207 non-null  float64\n",
      " 7   Skill Moves               18207 non-null  float64\n",
      " 8   Jersey Number             18207 non-null  float64\n",
      " 9   Crossing                  18207 non-null  float64\n",
      " 10  Finishing                 18207 non-null  float64\n",
      " 11  HeadingAccuracy           18207 non-null  float64\n",
      " 12  ShortPassing              18207 non-null  float64\n",
      " 13  Volleys                   18207 non-null  float64\n",
      " 14  Dribbling                 18207 non-null  float64\n",
      " 15  Curve                     18207 non-null  float64\n",
      " 16  FKAccuracy                18207 non-null  float64\n",
      " 17  LongPassing               18207 non-null  float64\n",
      " 18  BallControl               18207 non-null  float64\n",
      " 19  Acceleration              18207 non-null  float64\n",
      " 20  SprintSpeed               18207 non-null  float64\n",
      " 21  Agility                   18207 non-null  float64\n",
      " 22  Reactions                 18207 non-null  float64\n",
      " 23  Balance                   18207 non-null  float64\n",
      " 24  ShotPower                 18207 non-null  float64\n",
      " 25  Jumping                   18207 non-null  float64\n",
      " 26  Stamina                   18207 non-null  float64\n",
      " 27  Strength                  18207 non-null  float64\n",
      " 28  LongShots                 18207 non-null  float64\n",
      " 29  Aggression                18207 non-null  float64\n",
      " 30  Interceptions             18207 non-null  float64\n",
      " 31  Positioning               18207 non-null  float64\n",
      " 32  Vision                    18207 non-null  float64\n",
      " 33  Penalties                 18207 non-null  float64\n",
      " 34  Composure                 18207 non-null  float64\n",
      " 35  Marking                   18207 non-null  float64\n",
      " 36  StandingTackle            18207 non-null  float64\n",
      " 37  SlidingTackle             18207 non-null  float64\n",
      " 38  GKDiving                  18207 non-null  float64\n",
      " 39  GKHandling                18207 non-null  float64\n",
      " 40  GKKicking                 18207 non-null  float64\n",
      " 41  GKPositioning             18207 non-null  float64\n",
      " 42  GKReflexes                18207 non-null  float64\n",
      " 43  processed_value           18207 non-null  float64\n",
      " 44  processed_release_clause  18207 non-null  float64\n",
      " 45  processed_wage            18207 non-null  float64\n",
      " 46  processed_joining         18207 non-null  float64\n",
      " 47  processed_contract_valid  18207 non-null  float64\n",
      " 48  processed_height          18207 non-null  float64\n",
      " 49  processed_weight          18207 non-null  float64\n",
      " 50  processed_LS              18207 non-null  float64\n",
      " 51  processed_ST              18207 non-null  float64\n",
      " 52  processed_RS              18207 non-null  float64\n",
      " 53  processed_LW              18207 non-null  float64\n",
      " 54  processed_LF              18207 non-null  float64\n",
      " 55  processed_CF              18207 non-null  float64\n",
      " 56  processed_RF              18207 non-null  float64\n",
      " 57  processed_RW              18207 non-null  float64\n",
      " 58  processed_LAM             18207 non-null  float64\n",
      " 59  processed_CAM             18207 non-null  float64\n",
      " 60  processed_RAM             18207 non-null  float64\n",
      " 61  processed_LM              18207 non-null  float64\n",
      " 62  processed_LCM             18207 non-null  float64\n",
      " 63  processed_CM              18207 non-null  float64\n",
      " 64  processed_RCM             18207 non-null  float64\n",
      " 65  processed_RM              18207 non-null  float64\n",
      " 66  processed_LWB             18207 non-null  float64\n",
      " 67  processed_LDM             18207 non-null  float64\n",
      " 68  processed_CDM             18207 non-null  float64\n",
      " 69  processed_RDM             18207 non-null  float64\n",
      " 70  processed_RWB             18207 non-null  float64\n",
      " 71  processed_LB              18207 non-null  float64\n",
      " 72  processed_LCB             18207 non-null  float64\n",
      " 73  processed_CB              18207 non-null  float64\n",
      " 74  processed_RCB             18207 non-null  float64\n",
      " 75  processed_RB              18207 non-null  float64\n",
      "dtypes: float64(71), int64(5)\n",
      "memory usage: 10.7 MB\n"
     ]
    }
   ],
   "metadata": {}
  },
  {
   "cell_type": "markdown",
   "source": [
    "## Finally, we have converted the categorical attributes to numerical, and now we can use 76 attributes from the original 88. This will increase the quality of our clustering"
   ],
   "metadata": {}
  },
  {
   "cell_type": "markdown",
   "source": [],
   "metadata": {}
  }
 ],
 "metadata": {
  "orig_nbformat": 4,
  "language_info": {
   "name": "python",
   "version": "3.8.3",
   "mimetype": "text/x-python",
   "codemirror_mode": {
    "name": "ipython",
    "version": 3
   },
   "pygments_lexer": "ipython3",
   "nbconvert_exporter": "python",
   "file_extension": ".py"
  },
  "kernelspec": {
   "name": "python3",
   "display_name": "Python 3.8.3 64-bit ('base': conda)"
  },
  "interpreter": {
   "hash": "4825902efb39ff5286d5d2024a259bdc6e725de0830cfe2fa12bc963645908ac"
  }
 },
 "nbformat": 4,
 "nbformat_minor": 2
}